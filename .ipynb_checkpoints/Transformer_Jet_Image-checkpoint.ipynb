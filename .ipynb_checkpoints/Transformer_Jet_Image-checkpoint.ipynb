{
 "cells": [
  {
   "cell_type": "code",
   "execution_count": 1,
   "metadata": {},
   "outputs": [],
   "source": [
    "import numpy as np\n",
    "# import awkward\n",
    "import logging\n",
    "logging.basicConfig(level=logging.INFO, format='[%(asctime)s] %(levelname)s: %(message)s')\n",
    "import numpy as np\n",
    "import scipy.optimize as opt\n",
    "import sys, os, random, gzip\n",
    "import tensorflow as tf\n",
    "from keras import backend as K\n",
    "from keras.models import *\n",
    "from keras.layers import *\n",
    "from keras.optimizers import Adam\n",
    "from keras.losses import categorical_crossentropy\n",
    "import keras\n",
    "import pandas as pd\n",
    "gpus = tf.config.experimental.list_physical_devices('GPU')\n",
    "if gpus:\n",
    "  # Restrict TensorFlow to only use the first GPU\n",
    "    try:\n",
    "        tf.config.experimental.set_visible_devices(gpus[0], 'GPU')\n",
    "        tf.config.experimental.set_virtual_device_configuration(\n",
    "        gpus[0],\n",
    "        [tf.config.experimental.VirtualDeviceConfiguration(memory_limit=80000)])\n",
    "        logical_gpus = tf.config.experimental.list_logical_devices('GPU')\n",
    "        print(len(gpus), \"Physical GPUs,\", len(logical_gpus), \"Logical GPU\")\n",
    "    except RuntimeError as e:\n",
    "    # Visible devices must be set before GPUs have been initialized\n",
    "        print(e)"
   ]
  },
  {
   "cell_type": "code",
   "execution_count": 2,
   "metadata": {},
   "outputs": [],
   "source": [
    "import pandas as pd\n",
    "import numpy as np\n",
    "import matplotlib.pyplot as plt\n",
    "import h5py\n",
    "from keras.models import Sequential\n",
    "from keras.layers import Dense, Conv2D, Flatten, MaxPooling2D\n",
    "from sklearn.model_selection import train_test_split\n",
    "import sys\n",
    "from sklearn import metrics\n",
    "from keras.models import load_model\n",
    "from sklearn.metrics import roc_auc_score, roc_curve\n",
    "from sklearn.metrics import auc as skAUC\n",
    "from keras.callbacks import EarlyStopping, ModelCheckpoint, CSVLogger, TensorBoard\n",
    "import tensorflow as tf\n",
    "from keras import backend as K\n",
    "import time\n",
    "import glob\n",
    "from tqdm import tqdm\n",
    "from sklearn.metrics import roc_curve, auc"
   ]
  },
  {
   "cell_type": "code",
   "execution_count": 3,
   "metadata": {},
   "outputs": [],
   "source": [
    "## RD \n",
    "class FeedForward(tf.keras.layers.Layer):\n",
    "    def __init__(self, units=1):\n",
    "        super(FeedForward, self).__init__()\n",
    "        self.units = units\n",
    "        \n",
    "    def build(self, input_shape):  # Create the state of the layer (weights)\n",
    "        w_init = tf.random_normal_initializer()\n",
    "        self.w = tf.Variable(initial_value=w_init(shape=(input_shape[-2], self.units, input_shape[-1] ), dtype='float32'), trainable=True)\n",
    "        \n",
    "        b_init = tf.zeros_initializer()\n",
    "        self.b = tf.Variable(initial_value=b_init(shape=(input_shape[-2], input_shape[-1], self.units), dtype='float32'), trainable=True)\n",
    "        \n",
    "        \n",
    "    def call(self, inputs):  # Defines the computation from inputs to outputs\n",
    "        inputs = tf.expand_dims(inputs, axis=-1)\n",
    "        inputs = tf.tile(inputs,[1,1,1,self.units])\n",
    "     \n",
    "        return tf.matmul(self.w, inputs) + self.b"
   ]
  },
  {
   "cell_type": "code",
   "execution_count": 3,
   "metadata": {},
   "outputs": [],
   "source": [
    "class MultiHeadAttention(tf.keras.layers.Layer):\n",
    "    def __init__(self, d_model, num_heads):\n",
    "        super(MultiHeadAttention, self).__init__()\n",
    "        self.num_heads = num_heads\n",
    "        self.d_model = d_model\n",
    "        \n",
    "        assert d_model % self.num_heads == 0\n",
    "        \n",
    "        self.depth = d_model // self.num_heads\n",
    "        self.wq = tf.keras.layers.Dense(d_model)\n",
    "        self.wk = tf.keras.layers.Dense(d_model)\n",
    "        self.wv = tf.keras.layers.Dense(d_model)\n",
    "        \n",
    "        self.dense = tf.keras.layers.Dense(d_model)\n",
    "        \n",
    "    def split_heads(self, x, batch_size):\n",
    "        \"\"\"Split the last dimension into (num_heads, depth).\n",
    "        Transpose the result such that the shape is (batch_size, num_heads, seq_len, depth)\n",
    "        \"\"\"\n",
    "        x = tf.reshape(x, (batch_size, -1, self.num_heads, self.depth))\n",
    "        return tf.transpose(x, perm=[0, 2, 1, 3])\n",
    "    \n",
    "    def call(self, v, k, q, mask):\n",
    "        batch_size = tf.shape(q)[0]\n",
    "        \n",
    "        q = self.wq(q)  # (batch_size, seq_len, d_model)\n",
    "        k = self.wk(k)  # (batch_size, seq_len, d_model)\n",
    "        v = self.wv(v)  # (batch_size, seq_len, d_model)\n",
    "        \n",
    "        q = self.split_heads(q, batch_size)  # (batch_size, num_heads, seq_len_q, depth)\n",
    "        k = self.split_heads(k, batch_size)  # (batch_size, num_heads, seq_len_k, depth)\n",
    "        v = self.split_heads(v, batch_size)  # (batch_size, num_heads, seq_len_v, depth)\n",
    "        \n",
    "        # scaled_attention.shape == (batch_size, num_heads, seq_len_q, depth)\n",
    "        # attention_weights.shape == (batch_size, num_heads, seq_len_q, seq_len_k)\n",
    "        scaled_attention, attention_weights = scaled_dot_product_attention(\n",
    "            q, k, v, mask)\n",
    "        \n",
    "        scaled_attention = tf.transpose(scaled_attention, perm=[0, 2, 1, 3])  # (batch_size, seq_len_q, num_heads, depth)\n",
    "        \n",
    "        concat_attention = tf.reshape(scaled_attention, \n",
    "                                      (batch_size, -1, self.d_model))  # (batch_size, seq_len_q, d_model)\n",
    "        \n",
    "        output = self.dense(concat_attention)  # (batch_size, seq_len_q, d_model)\n",
    "        \n",
    "        return output, attention_weights\n",
    "    \n",
    "def point_wise_feed_forward_network(d_model, dff):\n",
    "    return tf.keras.Sequential([\n",
    "        tf.keras.layers.Dense(dff, activation='relu'),  # (batch_size, seq_len, dff)\n",
    "        tf.keras.layers.Dense(d_model)  # (batch_size, seq_len, d_model)\n",
    "    ])\n",
    "\n",
    "class EncoderLayer(tf.keras.layers.Layer):\n",
    "    def __init__(self, d_model, num_heads, dff, rate=0.1):\n",
    "        super(EncoderLayer, self).__init__()\n",
    "        \n",
    "        self.mha = MultiHeadAttention(d_model, num_heads)\n",
    "        self.ffn = point_wise_feed_forward_network(d_model, dff)\n",
    "        \n",
    "        self.layernorm1 = tf.keras.layers.LayerNormalization(epsilon=1e-6)\n",
    "        self.layernorm2 = tf.keras.layers.LayerNormalization(epsilon=1e-6)\n",
    "        \n",
    "        self.dropout1 = tf.keras.layers.Dropout(rate)\n",
    "        self.dropout2 = tf.keras.layers.Dropout(rate)\n",
    "        \n",
    "    def call(self, x, training, mask):\n",
    "        \n",
    "        attn_output, _ = self.mha(x, x, x, mask)  # (batch_size, input_seq_len, d_model)\n",
    "        attn_output = self.dropout1(attn_output, training=training)\n",
    "        out1 = self.layernorm1(x + attn_output)  # (batch_size, input_seq_len, d_model)\n",
    "        \n",
    "        ffn_output = self.ffn(out1)  # (batch_size, input_seq_len, d_model)\n",
    "        ffn_output = self.dropout2(ffn_output, training=training)\n",
    "        out2 = self.layernorm2(out1 + ffn_output)  # (batch_size, input_seq_len, d_model)\n",
    "        \n",
    "        return out2"
   ]
  },
  {
   "cell_type": "code",
   "execution_count": 5,
   "metadata": {},
   "outputs": [],
   "source": [
    "class Linear(tf.keras.layers.Layer):\n",
    "    def __init__(self, units=1):\n",
    "        super(Linear, self).__init__()\n",
    "        self.units = units\n",
    "        \n",
    "    def build(self, input_shape):  # Create the state of the layer (weights)\n",
    "        w_init = tf.random_normal_initializer()\n",
    "        self.w = tf.Variable(\n",
    "            initial_value=w_init(shape=(input_shape[-2], input_shape[-1]), dtype='float32'), trainable=True)\n",
    "        \n",
    "        b_init = tf.zeros_initializer()\n",
    "        self.b = tf.Variable(initial_value=b_init(shape=(input_shape[-2], input_shape[-1]), dtype='float32'), trainable=True)\n",
    "        \n",
    "    def call(self, inputs):  # Defines the computation from inputs to outputs\n",
    "        \n",
    "        return inputs*self.w + self.b\n",
    "   "
   ]
  },
  {
   "cell_type": "code",
   "execution_count": 4,
   "metadata": {},
   "outputs": [],
   "source": [
    "class Attention(tf.keras.layers.Layer):\n",
    "    def __init__(self, units=128):\n",
    "        super(Attention, self).__init__()\n",
    "        self.units = units\n",
    "        \n",
    "    def build(self, input_shape):  # Create the state of the layer (weights)\n",
    "        wq_init = tf.random_normal_initializer()\n",
    "        wk_init = tf.random_normal_initializer()\n",
    "        wv_init = tf.random_normal_initializer()\n",
    "        \n",
    "        self.wq = tf.Variable(initial_value=wq_init(shape=(self.units, input_shape[-2] ), dtype='float32'), trainable=True)\n",
    "        self.wk = tf.Variable(initial_value=wk_init(shape=(self.units, input_shape[-2] ), dtype='float32'), trainable=True)\n",
    "        self.wv = tf.Variable(initial_value=wv_init(shape=(self.units, input_shape[-2] ), dtype='float32'), trainable=True)\n",
    "\n",
    "        \n",
    "#         b_init = tf.zeros_initializer()\n",
    "#         self.b = tf.Variable(initial_value=b_init(shape=(self.units,), dtype='float32'), trainable=True)\n",
    "        \n",
    "    def call(self, inputs):  # Defines the computation from inputs to outputs\n",
    "        q = tf.matmul(self.wq,inputs)\n",
    "        k = tf.matmul(self.wk,inputs)\n",
    "        v = tf.matmul(self.wv, inputs)\n",
    "        k = tf.transpose(k, perm=[0, 2, 1])\n",
    "        \n",
    "        att = tf.matmul(k,q)\n",
    "#         att = tf.math.sigmoid(att, name=None)\n",
    "        att = tf.keras.layers.Softmax()(att)\n",
    "        att = tf.transpose(att, perm=[0, 2, 1])\n",
    "        b = tf.matmul(v, att)\n",
    "#         v = tf.matmul(self.wv, inputs)\n",
    "\n",
    "        return b\n",
    "   "
   ]
  },
  {
   "cell_type": "code",
   "execution_count": 8,
   "metadata": {},
   "outputs": [],
   "source": [
    "class KQV(tf.keras.layers.Layer):\n",
    "    def __init__(self, units=128):\n",
    "        super(KQV, self).__init__()\n",
    "        self.units = units\n",
    "        \n",
    "    def build(self, input_shape):  # Create the state of the layer (weights)\n",
    "        wq_init = tf.random_normal_initializer()\n",
    "        wk_init = tf.random_normal_initializer()\n",
    "        wv_init = tf.random_normal_initializer()\n",
    "        \n",
    "        self.wq = tf.Variable(initial_value=wq_init(shape=(self.units, input_shape[-2] ), dtype='float32'), trainable=True)\n",
    "        self.wk = tf.Variable(initial_value=wk_init(shape=(self.units, input_shape[-2] ), dtype='float32'), trainable=True)\n",
    "        self.wv = tf.Variable(initial_value=wv_init(shape=(self.units, input_shape[-2] ), dtype='float32'), trainable=True)\n",
    "\n",
    "        \n",
    "#         b_init = tf.zeros_initializer()\n",
    "#         self.b = tf.Variable(initial_value=b_init(shape=(self.units,), dtype='float32'), trainable=True)\n",
    "        \n",
    "    def call(self, inputs):  # Defines the computation from inputs to outputs\n",
    "        q = tf.matmul(self.wq,inputs)\n",
    "        k = tf.matmul(self.wk,inputs)\n",
    "        v = tf.matmul(self.wv, inputs)\n",
    "\n",
    "        return k, q, v\n",
    "   "
   ]
  },
  {
   "cell_type": "code",
   "execution_count": 4,
   "metadata": {},
   "outputs": [],
   "source": [
    "def point_wise_feed_forward_network(d_model, dff):\n",
    "    return tf.keras.Sequential([\n",
    "        tf.keras.layers.Dense(dff, activation='relu'),  # (batch_size, seq_len, dff)\n",
    "        tf.keras.layers.Dense(d_model)  # (batch_size, seq_len, d_model)\n",
    "    ])\n"
   ]
  },
  {
   "cell_type": "code",
   "execution_count": 5,
   "metadata": {},
   "outputs": [],
   "source": [
    "def scaled_dot_product_attention(q, k, v, mask):\n",
    "    \"\"\"Calculate the attention weights.\n",
    "    q, k, v must have matching leading dimensions.\n",
    "    k, v must have matching penultimate dimension, i.e.: seq_len_k = seq_len_v.\n",
    "    The mask has different shapes depending on its type(padding or look ahead) \n",
    "    but it must be broadcastable for addition.\n",
    "    \n",
    "    Args:\n",
    "    q: query shape == (..., seq_len_q, depth)\n",
    "    k: key shape == (..., seq_len_k, depth)\n",
    "    v: value shape == (..., seq_len_v, depth_v)\n",
    "    mask: Float tensor with shape broadcastable \n",
    "    to (..., seq_len_q, seq_len_k). Defaults to None.\n",
    "    \n",
    "    Returns:\n",
    "    output, attention_weights\n",
    "    \"\"\"\n",
    "    \n",
    "    matmul_qk = tf.matmul(q, k, transpose_b=True)  # (..., seq_len_q, seq_len_k)\n",
    "    \n",
    "    # scale matmul_qk\n",
    "    dk = tf.cast(tf.shape(k)[-1], tf.float32)\n",
    "    scaled_attention_logits = matmul_qk / tf.math.sqrt(dk)\n",
    "    \n",
    "    # add the mask to the scaled tensor.\n",
    "    if mask is not None:\n",
    "        scaled_attention_logits += (mask * -1e9)  \n",
    "    \n",
    "    # softmax is normalized on the last axis (seq_len_k) so that the scores\n",
    "    # add up to 1.\n",
    "    attention_weights = tf.nn.softmax(scaled_attention_logits, axis=-1)  # (..., seq_len_q, seq_len_k)\n",
    "    \n",
    "    output = tf.matmul(attention_weights, v)  # (..., seq_len_q, depth_v)\n",
    "    \n",
    "    return output, attention_weights"
   ]
  },
  {
   "cell_type": "code",
   "execution_count": 7,
   "metadata": {},
   "outputs": [],
   "source": [
    "import os\n",
    "import sys\n",
    "from tqdm import tqdm\n",
    "from itertools import combinations\n",
    "from itertools import combinations_with_replacement\n",
    "os.environ[\"TF_CPP_MIN_LOG_LEVEL\"] = \"3\"\n",
    "# Standard Imports\n",
    "import pandas as pd\n",
    "import h5py\n",
    "import numpy as np\n",
    "import os\n",
    "import json\n",
    "import matplotlib.pyplot as plt\n",
    "from sklearn.model_selection import train_test_split\n",
    "import keras\n",
    "import pathlib\n",
    "import tensorflow as tf\n",
    "from keras import metrics\n",
    "from keras.constraints import max_norm\n",
    "from tensorflow.keras.initializers import Orthogonal\n",
    "import csv\n",
    "gpus = tf.config.experimental.list_physical_devices(\"GPU\")\n",
    "path = pathlib.Path.cwd()"
   ]
  },
  {
   "cell_type": "code",
   "execution_count": 8,
   "metadata": {},
   "outputs": [],
   "source": [
    "# Import homemade tools\n",
    "from get_data import get_data\n",
    "from get_model import get_model\n",
    "from get_data_raw import get_data as get_data_raw\n",
    "from mean_ci import mean_ci\n",
    "from get_best_sherpa_result import get_best_sherpa_result\n",
    "from run_bootstrap import run_bootstraps"
   ]
  },
  {
   "cell_type": "code",
   "execution_count": 9,
   "metadata": {},
   "outputs": [],
   "source": [
    "rinv = '0p3'\n",
    "X, Y = get_data_raw(\"LL\", rinv)\n",
    "X = np.nan_to_num(X)"
   ]
  },
  {
   "cell_type": "code",
   "execution_count": 10,
   "metadata": {},
   "outputs": [],
   "source": [
    "# N = len(X)\n",
    "# Ntrain, Nval, Ntest = int(N/5*4),  int(N/10),  int(N/10)\n",
    "# Xim_train, Xim_val, Xim_test = X[:Ntrain], X[Ntrain:Nval+Ntrain], X[Nval+Ntrain:N]\n",
    "# yim_train, yim_val, yim_test = Y[:Ntrain], Y[Ntrain:Nval+Ntrain], Y[Nval+Ntrain:N]"
   ]
  },
  {
   "cell_type": "code",
   "execution_count": 13,
   "metadata": {},
   "outputs": [],
   "source": [
    "def to_efp_inputs(X, size=100, R=1.65 ):\n",
    "    bins = [32,32]\n",
    "    eta = tf.range(-bins[0]/(bins[0]+1)*R, bins[0]/(bins[0]+1)*R, 2*R/(bins[0]+1) )\n",
    "    phi = tf.range(-bins[0]/(bins[0]+1)*R, bins[0]/(bins[0]+1)*R, 2*R/(bins[0]+1) )\n",
    "    eta = tf.expand_dims(eta, axis=-1)\n",
    "    phi = tf.expand_dims(phi, axis=-1)\n",
    "    eta = tf.tile(eta, [1,32])\n",
    "    phi = tf.tile(phi, [1,32])\n",
    "    phi = tf.transpose(phi, [1,0])\n",
    "    eta = tf.expand_dims(eta, axis=0)\n",
    "    phi = tf.expand_dims(phi, axis=0)\n",
    "    dim = tf.shape(X)[0]\n",
    "    eta = tf.tile(eta, [dim,1, 1])\n",
    "    phi = tf.tile(phi, [dim,1, 1])\n",
    "    ft = tf.not_equal(X, 0)\n",
    "    ft = tf.cast( ft, tf.float32 )\n",
    "    eta = ft*eta\n",
    "    phi = ft*phi\n",
    "    \n",
    "    test = tf.reshape(X, [ len(X), 1024])\n",
    "    phi = tf.reshape(phi, [ len(X), 1024])\n",
    "    eta = tf.reshape(eta, [ len(X), 1024])\n",
    "    \n",
    "    where = tf.not_equal(test, 0)\n",
    "    index = tf.cast(where, tf.float32)\n",
    "    index = tf.math.reduce_sum(index, axis=-1)\n",
    "    index = tf.cast(index, tf.int32)\n",
    "#     row = tf.range(index.shape[0])\n",
    "    test = test[where]\n",
    "    eta = eta[where]\n",
    "    phi = phi[where]\n",
    "    \n",
    "#     test = tf.expand_dims(test, axis=-1)\n",
    "#     eta = tf.expand_dims(eta, axis=-1)\n",
    "#     phi = tf.expand_dims(phi, axis=-1)\n",
    "    eta = tf.cast(eta, tf.float64)\n",
    "    phi = tf.cast(phi, tf.float64)\n",
    "    \n",
    "#     test = tf.concat([test, eta, phi], axis=-1)\n",
    "    \n",
    "    test = tf.expand_dims(test, axis=0)\n",
    "    eta = tf.expand_dims(eta, axis=0)\n",
    "    phi = tf.expand_dims(phi, axis=0)\n",
    "    \n",
    "    \n",
    "    test =  tf.split(test, index, 1)\n",
    "    eta =  tf.split(eta, index, 1)\n",
    "    phi =  tf.split(phi, index, 1)\n",
    "    \n",
    "    z = []\n",
    "    for i in tqdm(range(len(test))):\n",
    "        n = size - test[i].shape[1]\n",
    "        paddings = tf.constant([[0, 0,], [0, n]])\n",
    "        \n",
    "        pt = tf.pad(test[i], paddings, \"CONSTANT\")\n",
    "        eta_ = tf.pad(eta[i], paddings, \"CONSTANT\")\n",
    "        phi_ = tf.pad(phi[i], paddings, \"CONSTANT\")\n",
    "        \n",
    "        pt = tf.expand_dims(pt, axis=-1)\n",
    "        eta_ = tf.expand_dims(eta_, axis=-1)\n",
    "        phi_ = tf.expand_dims(phi_, axis=-1)\n",
    "        \n",
    "        al = tf.concat([pt, eta_, phi_], axis=-1)\n",
    "#         z.append(tf.pad(test[i], paddings, \"CONSTANT\"))\n",
    "        z.append(al)\n",
    "    return(z)\n",
    "        \n",
    "    \n"
   ]
  },
  {
   "cell_type": "code",
   "execution_count": 14,
   "metadata": {},
   "outputs": [
    {
     "name": "stderr",
     "output_type": "stream",
     "text": [
      "100%|██████████| 19000/19000 [00:03<00:00, 6001.75it/s]\n",
      "100%|██████████| 19000/19000 [00:03<00:00, 6105.08it/s]\n",
      "100%|██████████| 19000/19000 [00:03<00:00, 5945.30it/s]\n",
      "100%|██████████| 19000/19000 [00:03<00:00, 6218.40it/s]\n",
      "100%|██████████| 19000/19000 [00:03<00:00, 6165.86it/s]\n",
      "100%|██████████| 19000/19000 [00:03<00:00, 6038.96it/s]\n",
      "100%|██████████| 19000/19000 [00:03<00:00, 6223.77it/s]\n",
      "100%|██████████| 19000/19000 [00:03<00:00, 6174.29it/s]\n",
      "100%|██████████| 19000/19000 [00:02<00:00, 6542.00it/s]\n",
      "100%|██████████| 19000/19000 [00:03<00:00, 6152.21it/s]\n",
      "100%|██████████| 19000/19000 [00:03<00:00, 6135.32it/s]\n",
      "100%|██████████| 19000/19000 [00:03<00:00, 6111.86it/s]\n",
      "100%|██████████| 19000/19000 [00:03<00:00, 6074.06it/s]\n",
      "100%|██████████| 19000/19000 [00:03<00:00, 6134.93it/s]\n",
      "100%|██████████| 19000/19000 [00:03<00:00, 6022.62it/s]\n",
      "100%|██████████| 19000/19000 [00:02<00:00, 6503.48it/s]\n",
      "100%|██████████| 19000/19000 [00:02<00:00, 6538.18it/s]\n",
      "100%|██████████| 19000/19000 [00:02<00:00, 6524.24it/s]\n",
      "100%|██████████| 19000/19000 [00:02<00:00, 6503.00it/s]\n",
      "100%|██████████| 19000/19000 [00:02<00:00, 6430.11it/s]\n",
      "100%|██████████| 19000/19000 [00:03<00:00, 5838.83it/s]\n",
      "100%|██████████| 19000/19000 [00:03<00:00, 5763.11it/s]\n",
      "100%|██████████| 19000/19000 [00:02<00:00, 6520.17it/s]\n",
      "100%|██████████| 19000/19000 [00:02<00:00, 6521.69it/s]\n",
      "100%|██████████| 19000/19000 [00:02<00:00, 6546.55it/s]\n",
      "100%|██████████| 19000/19000 [00:03<00:00, 5950.93it/s]\n",
      "100%|██████████| 19000/19000 [00:03<00:00, 5790.44it/s]\n",
      "100%|██████████| 19000/19000 [00:02<00:00, 6347.85it/s]\n",
      "100%|██████████| 19000/19000 [00:03<00:00, 5858.26it/s]\n",
      "100%|██████████| 19000/19000 [00:03<00:00, 5897.80it/s]\n",
      "100%|██████████| 19000/19000 [00:02<00:00, 6462.49it/s]\n",
      "100%|██████████| 19000/19000 [00:03<00:00, 5776.19it/s]\n",
      "100%|██████████| 19000/19000 [00:03<00:00, 6299.26it/s]\n",
      "100%|██████████| 19000/19000 [00:02<00:00, 6338.98it/s]\n",
      "100%|██████████| 19000/19000 [00:03<00:00, 5858.27it/s]\n",
      "100%|██████████| 19000/19000 [00:02<00:00, 6448.72it/s]\n",
      "100%|██████████| 19000/19000 [00:03<00:00, 5769.19it/s]\n",
      "100%|██████████| 19000/19000 [00:03<00:00, 6312.86it/s]\n",
      "100%|██████████| 19000/19000 [00:03<00:00, 5611.09it/s]\n",
      "100%|██████████| 19000/19000 [00:03<00:00, 6134.63it/s]\n",
      "100%|██████████| 19000/19000 [00:03<00:00, 5621.02it/s]\n",
      "100%|██████████| 19000/19000 [00:03<00:00, 6328.87it/s]\n",
      "100%|██████████| 19000/19000 [00:02<00:00, 6355.39it/s]\n",
      "100%|██████████| 19000/19000 [00:02<00:00, 6351.72it/s]\n",
      "100%|██████████| 19000/19000 [00:03<00:00, 6239.25it/s]\n",
      "100%|██████████| 19000/19000 [00:03<00:00, 6243.39it/s]\n",
      "100%|██████████| 19000/19000 [00:03<00:00, 6215.66it/s]\n",
      "100%|██████████| 19000/19000 [00:03<00:00, 6310.79it/s]\n",
      "100%|██████████| 19000/19000 [00:02<00:00, 6395.86it/s]\n",
      "100%|██████████| 19000/19000 [00:03<00:00, 6286.11it/s]\n",
      "100%|██████████| 19000/19000 [00:03<00:00, 6196.45it/s]\n",
      "100%|██████████| 19000/19000 [00:03<00:00, 6277.63it/s]\n",
      "100%|██████████| 19000/19000 [00:03<00:00, 6266.36it/s]\n",
      "100%|██████████| 19000/19000 [00:03<00:00, 6237.78it/s]\n",
      "100%|██████████| 19000/19000 [00:03<00:00, 6301.50it/s]\n",
      "100%|██████████| 19000/19000 [00:03<00:00, 6314.45it/s]\n",
      "100%|██████████| 19000/19000 [00:03<00:00, 5383.49it/s]\n",
      "100%|██████████| 19000/19000 [00:03<00:00, 6254.86it/s]\n",
      "100%|██████████| 19000/19000 [00:03<00:00, 5455.66it/s]\n",
      "100%|██████████| 19000/19000 [00:03<00:00, 6160.01it/s]\n",
      "100%|██████████| 19000/19000 [00:03<00:00, 6294.86it/s]\n",
      "100%|██████████| 19000/19000 [00:03<00:00, 5472.10it/s]\n",
      "100%|██████████| 19000/19000 [00:03<00:00, 6320.96it/s]\n",
      "100%|██████████| 19000/19000 [00:03<00:00, 6325.31it/s]\n",
      "100%|██████████| 19000/19000 [00:03<00:00, 6298.33it/s]\n",
      "100%|██████████| 19000/19000 [00:03<00:00, 6319.49it/s]\n",
      "100%|██████████| 19000/19000 [00:03<00:00, 5196.85it/s]\n",
      "100%|██████████| 19000/19000 [00:02<00:00, 6423.13it/s]\n",
      "100%|██████████| 19000/19000 [00:02<00:00, 6373.32it/s]\n",
      "100%|██████████| 19000/19000 [00:03<00:00, 5350.86it/s]\n",
      "100%|██████████| 19000/19000 [00:02<00:00, 6405.19it/s]\n",
      "100%|██████████| 19000/19000 [00:02<00:00, 6365.06it/s]\n",
      "100%|██████████| 19000/19000 [00:03<00:00, 6269.72it/s]\n",
      "100%|██████████| 19000/19000 [00:03<00:00, 6226.31it/s]\n",
      "100%|██████████| 19000/19000 [00:03<00:00, 5357.19it/s]\n",
      "100%|██████████| 19000/19000 [00:02<00:00, 6436.05it/s]\n",
      "100%|██████████| 19000/19000 [00:03<00:00, 6326.96it/s]\n",
      "100%|██████████| 19000/19000 [00:03<00:00, 5267.57it/s]\n",
      "100%|██████████| 19000/19000 [00:02<00:00, 6344.13it/s]\n",
      "100%|██████████| 19000/19000 [00:03<00:00, 6325.00it/s]\n",
      "100%|██████████| 19000/19000 [00:03<00:00, 6233.94it/s]\n",
      "100%|██████████| 19000/19000 [00:02<00:00, 6391.16it/s]\n",
      "100%|██████████| 19000/19000 [00:02<00:00, 6360.77it/s]\n",
      "100%|██████████| 19000/19000 [00:02<00:00, 6430.72it/s]\n",
      "100%|██████████| 19000/19000 [00:03<00:00, 6278.41it/s]\n",
      "100%|██████████| 19000/19000 [00:02<00:00, 6386.42it/s]\n",
      "100%|██████████| 19000/19000 [00:02<00:00, 6363.72it/s]\n",
      "100%|██████████| 19000/19000 [00:03<00:00, 5195.08it/s]\n",
      "100%|██████████| 19000/19000 [00:03<00:00, 6280.36it/s]\n",
      "100%|██████████| 19000/19000 [00:02<00:00, 6374.02it/s]\n",
      "100%|██████████| 19000/19000 [00:03<00:00, 5141.13it/s]\n",
      "100%|██████████| 19000/19000 [00:03<00:00, 6305.79it/s]\n",
      "100%|██████████| 19000/19000 [00:02<00:00, 6342.63it/s]\n",
      "100%|██████████| 19000/19000 [00:03<00:00, 6303.02it/s]\n",
      "100%|██████████| 19000/19000 [00:03<00:00, 6145.06it/s]\n",
      "100%|██████████| 19000/19000 [00:03<00:00, 6293.54it/s]\n",
      "100%|██████████| 19000/19000 [00:02<00:00, 6338.09it/s]\n",
      "100%|██████████| 19000/19000 [00:03<00:00, 5079.17it/s]\n",
      "100%|██████████| 19000/19000 [00:03<00:00, 6297.32it/s]\n",
      "100%|██████████| 19000/19000 [00:02<00:00, 6389.99it/s]\n"
     ]
    }
   ],
   "source": [
    "batch =  100\n",
    "N = X.shape[0] //batch\n",
    "Z = []\n",
    "for i in range(batch):\n",
    "    Z = Z + to_efp_inputs(X[N*i:N*(i+1)], size=150)\n",
    "# Z =Z + to_efp_inputs(X[N*(i+1):], size=150)"
   ]
  },
  {
   "cell_type": "code",
   "execution_count": 32,
   "metadata": {},
   "outputs": [
    {
     "data": {
      "text/plain": [
       "TensorShape([1, 150, 3])"
      ]
     },
     "execution_count": 32,
     "metadata": {},
     "output_type": "execute_result"
    }
   ],
   "source": [
    "Z[0].shape"
   ]
  },
  {
   "cell_type": "code",
   "execution_count": 38,
   "metadata": {},
   "outputs": [],
   "source": [
    "Z = tf.concat(Z, axis=0)"
   ]
  },
  {
   "cell_type": "code",
   "execution_count": 39,
   "metadata": {},
   "outputs": [
    {
     "data": {
      "text/plain": [
       "TensorShape([1900000, 150, 3])"
      ]
     },
     "execution_count": 39,
     "metadata": {},
     "output_type": "execute_result"
    }
   ],
   "source": [
    "Z.shape"
   ]
  },
  {
   "cell_type": "code",
   "execution_count": 41,
   "metadata": {},
   "outputs": [],
   "source": [
    "hf.close()"
   ]
  },
  {
   "cell_type": "code",
   "execution_count": 42,
   "metadata": {},
   "outputs": [],
   "source": [
    "# outfile = '../data/Pre_LL/pre_LL_'+rinv+'.h5'\n",
    "# hf = h5py.File(outfile, 'w')\n",
    "# hf.create_dataset('features', data=Z)\n",
    "# hf.create_dataset('targets', data=Y)\n",
    "\n",
    "# hf.close()"
   ]
  },
  {
   "cell_type": "code",
   "execution_count": 48,
   "metadata": {},
   "outputs": [],
   "source": [
    "## data 1\n",
    "rinv = \"0p3\"\n",
    "file_path = \"pre_LL_\"+rinv+\".h5\"\n",
    "hdf_file = path.parent/'data'/'Pre_LL'/file_path\n",
    "hf = h5py.File(hdf_file, \"r\")"
   ]
  },
  {
   "cell_type": "code",
   "execution_count": 49,
   "metadata": {},
   "outputs": [],
   "source": [
    "X = hf[\"features\"][:]\n",
    "Y = hf[\"targets\"][:]"
   ]
  },
  {
   "cell_type": "code",
   "execution_count": 111,
   "metadata": {},
   "outputs": [],
   "source": [
    "## data2\n",
    "rinv = '0p3'\n",
    "X, Y = get_data_raw(\"LL\", rinv)\n",
    "X = np.nan_to_num(X)"
   ]
  },
  {
   "cell_type": "code",
   "execution_count": 112,
   "metadata": {},
   "outputs": [
    {
     "data": {
      "text/plain": [
       "(1900000, 32, 32)"
      ]
     },
     "execution_count": 112,
     "metadata": {},
     "output_type": "execute_result"
    }
   ],
   "source": [
    "X.shape"
   ]
  },
  {
   "cell_type": "code",
   "execution_count": 113,
   "metadata": {},
   "outputs": [],
   "source": [
    "N = len(X)\n",
    "Ntrain, Nval, Ntest = int(N/5*4),  int(N/10),  int(N/10)\n",
    "Xim_train, Xim_val, Xim_test = X[:Ntrain], X[Ntrain:Nval+Ntrain], X[Nval+Ntrain:N]\n",
    "yim_train, yim_val, yim_test = Y[:Ntrain], Y[Ntrain:Nval+Ntrain], Y[Nval+Ntrain:N]"
   ]
  },
  {
   "cell_type": "code",
   "execution_count": 82,
   "metadata": {},
   "outputs": [
    {
     "data": {
      "text/plain": [
       "0"
      ]
     },
     "execution_count": 82,
     "metadata": {},
     "output_type": "execute_result"
    }
   ],
   "source": [
    "d_mode % num_heads"
   ]
  },
  {
   "cell_type": "code",
   "execution_count": 127,
   "metadata": {},
   "outputs": [
    {
     "name": "stdout",
     "output_type": "stream",
     "text": [
      "(None, 32, 32)\n",
      "att\n",
      "(None, None, 32)\n",
      "att\n",
      "(None, None, 32)\n",
      "(None, 32, 32)\n",
      "(None, 32, 32)\n",
      "(None, 32, 32)\n",
      "(None, 32, 32)\n",
      "(None, None, 32)\n",
      "(None, None, 32)\n",
      "(None, 32, 32)\n",
      "(None, None, 32)\n",
      "(None, None, 32)\n",
      "(None, 32, 32)\n",
      "(None, 32, 32)\n",
      "(None, 32, 32)\n",
      "(None, 32, 32)\n",
      "(None, 1024)\n",
      "(None, 1)\n"
     ]
    }
   ],
   "source": [
    "d_mode = X.shape[-1]\n",
    "dff = 2048\n",
    "num_heads =  X.shape[-1]\n",
    "dprate = 0.1\n",
    "R = 1.65\n",
    "inputs = tf.keras.Input(shape=( X.shape[-2], X.shape[-1]))\n",
    "\n",
    "x = inputs\n",
    "print(x.shape)\n",
    "\n",
    "# x = x+R\n",
    "# print(x.shape)\n",
    "\n",
    "\n",
    "\n",
    "# x = tf.expand_dims(x, axis=-1)\n",
    "# print(x.shape)\n",
    "# x = Attention()(x)\n",
    "# print(x.shape)\n",
    "\n",
    "# x = Linear()(x)\n",
    "# print(x.shape)\n",
    "\n",
    "##---------------------------------------Encode layer\n",
    "print('att')\n",
    "att, _ = MultiHeadAttention(d_mode, num_heads)(x, x, x, None)\n",
    "print(att.shape)\n",
    "\n",
    "# print('att')\n",
    "# att = point_wise_feed_forward_network(d_mode, dff)(att)\n",
    "# print(att.shape)\n",
    "\n",
    "print('att')\n",
    "att = tf.keras.layers.Dropout(dprate)(att, training=False)\n",
    "print(att.shape)\n",
    "\n",
    "x = tf.keras.layers.LayerNormalization(epsilon=1e-6)(x+att)\n",
    "print(x.shape)\n",
    "\n",
    "att = point_wise_feed_forward_network(d_mode, dff)(x)\n",
    "print(att.shape)\n",
    "\n",
    "att = tf.keras.layers.Dropout(dprate)(att, training=False)\n",
    "print(att.shape)\n",
    "\n",
    "x = tf.keras.layers.LayerNormalization(epsilon=1e-6)(x+att)\n",
    "print(x.shape)\n",
    "##------------------------------------------------------------------------\n",
    "\n",
    "##----------------------------------------------- Decode layer\n",
    "att, _ = MultiHeadAttention(d_mode, num_heads)(x, x, x, None)\n",
    "print(att.shape)\n",
    "att = tf.keras.layers.Dropout(dprate)(att, training=False)\n",
    "print(att.shape)\n",
    "x = tf.keras.layers.LayerNormalization(epsilon=1e-6)(x+att)\n",
    "print(x.shape)\n",
    "\n",
    "att, _ = MultiHeadAttention(d_mode, num_heads)(x, x, x, None)\n",
    "print(att.shape)\n",
    "att = tf.keras.layers.Dropout(dprate)(att, training=False)\n",
    "print(att.shape)\n",
    "x = tf.keras.layers.LayerNormalization(epsilon=1e-6)(x+att)\n",
    "print(x.shape)\n",
    "\n",
    "att = point_wise_feed_forward_network(d_mode, dff)(x)\n",
    "print(att.shape)\n",
    "att = tf.keras.layers.Dropout(dprate)(att, training=False)\n",
    "print(att.shape)   \n",
    "x = tf.keras.layers.LayerNormalization(epsilon=1e-6)(x+att)\n",
    "print(x.shape)\n",
    "\n",
    "   \n",
    "##------------------------------------------------------------------------\n",
    "x = tf.keras.layers.Flatten()(x)\n",
    "print(x.shape)\n",
    "\n",
    "# x = tf.keras.layers.Dense(256)(x)\n",
    "# print(x.shape)\n",
    "\n",
    "# x= tf.keras.layers.Dropout(0.2)(x)\n",
    "# print(x.shape)\n",
    "\n",
    "# x = tf.keras.layers.Dense(128)(x)\n",
    "# print(x.shape)\n",
    "\n",
    "# x= tf.keras.layers.Dropout(0.2)(x)\n",
    "# print(x.shape)\n",
    "\n",
    "x = tf.keras.layers.Dense(1, activation='sigmoid')(x)\n",
    "print(x.shape)\n",
    "\n",
    "\n",
    "\n",
    "\n",
    "\n",
    "modelTransformer = tf.keras.Model(inputs= inputs, outputs=x, name='Transformer')\n",
    "\n",
    "\n",
    "# modelTransformer = tf.keras.Model(inputs= inputs, outputs=x, name='Transformer')\n"
   ]
  },
  {
   "cell_type": "code",
   "execution_count": 128,
   "metadata": {},
   "outputs": [],
   "source": [
    "model_type = \"Transformer\"\n",
    "save_dir = './Keras_Tunner/'\n",
    "model_name = '%s_model_'% model_type +rinv \n",
    "if not os.path.isdir(save_dir):\n",
    "    os.makedirs(save_dir)\n",
    "filepath = os.path.join(save_dir, model_name)\n",
    "\n",
    "# Prepare callbacks for model saving and for learning rate adjustment.\n",
    "checkpoint = keras.callbacks.ModelCheckpoint(filepath=filepath, verbose=1, save_best_only=True)\n",
    "#                                              monitor='val_auc',\n",
    "#                                              mode='max',\n",
    "#  monitor='val_acc',\n",
    "\n",
    "# lr_scheduler = keras.callbacks.LearningRateScheduler(lr_schedule)\n",
    "\n",
    "# progress_bar = keras.callbacks.ProgbarLogger()\n",
    "\n",
    "# csv_logger = keras.callbacks.CSVLogger(save_dir+'CNN'+rinv+'.csv')\n",
    "# csv_logger = keras.callbacks.CSVLogger(save_dir+'CNN_'+rinv+'_'+optn+'_filter.csv')\n",
    "csv_logger = keras.callbacks.CSVLogger(save_dir+model_type+rinv+'.csv')\n",
    "\n",
    "\n",
    "earlystop = keras.callbacks.EarlyStopping(\n",
    "                            monitor=\"val_loss\",\n",
    "                            min_delta=1e-4,\n",
    "                            patience=3, # 10\n",
    "                            verbose=1,\n",
    "                            mode='min', baseline=None, ## 'min' \n",
    "                            restore_best_weights=True)\n",
    "# reduce_lr = tf.keras.callbacks.ReduceLROnPlateau(monitor='val_loss', factor=0.2,\n",
    "#                               patience=2, min_lr=0.00001)\n",
    "callbacks = [checkpoint, csv_logger,  earlystop ]\n"
   ]
  },
  {
   "cell_type": "code",
   "execution_count": 26,
   "metadata": {},
   "outputs": [],
   "source": [
    "class CustomSchedule(tf.keras.optimizers.schedules.LearningRateSchedule):\n",
    "    def __init__(self, d_model, warmup_steps=4000):\n",
    "        super(CustomSchedule, self).__init__()\n",
    "        \n",
    "        self.d_model = d_model\n",
    "        self.d_model = tf.cast(self.d_model, tf.float32)\n",
    "        \n",
    "        self.warmup_steps = warmup_steps\n",
    "        \n",
    "    def __call__(self, step):\n",
    "        arg1 = tf.math.rsqrt(step)\n",
    "        arg2 = step * (self.warmup_steps ** -1.5)\n",
    "        \n",
    "        return tf.math.rsqrt(self.d_model) * tf.math.minimum(arg1, arg2)"
   ]
  },
  {
   "cell_type": "code",
   "execution_count": 117,
   "metadata": {},
   "outputs": [],
   "source": [
    "learning_rate = CustomSchedule(d_mode)\n",
    "\n",
    "optimizer = tf.keras.optimizers.Adam(learning_rate, beta_1=0.9, beta_2=0.98, \n",
    "                                     epsilon=1e-9)"
   ]
  },
  {
   "cell_type": "code",
   "execution_count": 118,
   "metadata": {},
   "outputs": [
    {
     "data": {
      "text/plain": [
       "Text(0.5, 0, 'Train Step')"
      ]
     },
     "execution_count": 118,
     "metadata": {},
     "output_type": "execute_result"
    },
    {
     "data": {
      "image/png": "[encoded data removed]",
      "text/plain": [
       "<Figure size 432x288 with 1 Axes>"
      ]
     },
     "metadata": {
      "needs_background": "light"
     },
     "output_type": "display_data"
    }
   ],
   "source": [
    "temp_learning_rate_schedule = CustomSchedule(d_mode)\n",
    "\n",
    "plt.plot(temp_learning_rate_schedule(tf.range(40000, dtype=tf.float32)))\n",
    "plt.ylabel(\"Learning Rate\")\n",
    "plt.xlabel(\"Train Step\")"
   ]
  },
  {
   "cell_type": "code",
   "execution_count": 126,
   "metadata": {},
   "outputs": [],
   "source": [
    "optimizer = tf.keras.optimizers.Adam()"
   ]
  },
  {
   "cell_type": "code",
   "execution_count": 129,
   "metadata": {},
   "outputs": [
    {
     "name": "stdout",
     "output_type": "stream",
     "text": [
      "Model: \"Transformer\"\n",
      "__________________________________________________________________________________________________\n",
      "Layer (type)                    Output Shape         Param #     Connected to                     \n",
      "==================================================================================================\n",
      "input_25 (InputLayer)           [(None, 32, 32)]     0                                            \n",
      "__________________________________________________________________________________________________\n",
      "multi_head_attention_55 (MultiH ((None, None, 32), ( 4224        input_25[0][0]                   \n",
      "__________________________________________________________________________________________________\n",
      "dropout_92 (Dropout)            (None, None, 32)     0           multi_head_attention_55[0][0]    \n",
      "__________________________________________________________________________________________________\n",
      "tf_op_layer_AddV2_87 (TensorFlo [(None, 32, 32)]     0           input_25[0][0]                   \n",
      "                                                                 dropout_92[0][0]                 \n",
      "__________________________________________________________________________________________________\n",
      "layer_normalization_86 (LayerNo (None, 32, 32)       64          tf_op_layer_AddV2_87[0][0]       \n",
      "__________________________________________________________________________________________________\n",
      "sequential_41 (Sequential)      (None, 32, 32)       133152      layer_normalization_86[0][0]     \n",
      "__________________________________________________________________________________________________\n",
      "dropout_93 (Dropout)            (None, 32, 32)       0           sequential_41[0][0]              \n",
      "__________________________________________________________________________________________________\n",
      "tf_op_layer_AddV2_88 (TensorFlo [(None, 32, 32)]     0           layer_normalization_86[0][0]     \n",
      "                                                                 dropout_93[0][0]                 \n",
      "__________________________________________________________________________________________________\n",
      "layer_normalization_87 (LayerNo (None, 32, 32)       64          tf_op_layer_AddV2_88[0][0]       \n",
      "__________________________________________________________________________________________________\n",
      "multi_head_attention_56 (MultiH ((None, None, 32), ( 4224        layer_normalization_87[0][0]     \n",
      "__________________________________________________________________________________________________\n",
      "dropout_94 (Dropout)            (None, None, 32)     0           multi_head_attention_56[0][0]    \n",
      "__________________________________________________________________________________________________\n",
      "tf_op_layer_AddV2_89 (TensorFlo [(None, 32, 32)]     0           layer_normalization_87[0][0]     \n",
      "                                                                 dropout_94[0][0]                 \n",
      "__________________________________________________________________________________________________\n",
      "layer_normalization_88 (LayerNo (None, 32, 32)       64          tf_op_layer_AddV2_89[0][0]       \n",
      "__________________________________________________________________________________________________\n",
      "multi_head_attention_57 (MultiH ((None, None, 32), ( 4224        layer_normalization_88[0][0]     \n",
      "__________________________________________________________________________________________________\n",
      "dropout_95 (Dropout)            (None, None, 32)     0           multi_head_attention_57[0][0]    \n",
      "__________________________________________________________________________________________________\n",
      "tf_op_layer_AddV2_90 (TensorFlo [(None, 32, 32)]     0           layer_normalization_88[0][0]     \n",
      "                                                                 dropout_95[0][0]                 \n",
      "__________________________________________________________________________________________________\n",
      "layer_normalization_89 (LayerNo (None, 32, 32)       64          tf_op_layer_AddV2_90[0][0]       \n",
      "__________________________________________________________________________________________________\n",
      "sequential_42 (Sequential)      (None, 32, 32)       133152      layer_normalization_89[0][0]     \n",
      "__________________________________________________________________________________________________\n",
      "dropout_96 (Dropout)            (None, 32, 32)       0           sequential_42[0][0]              \n",
      "__________________________________________________________________________________________________\n",
      "tf_op_layer_AddV2_91 (TensorFlo [(None, 32, 32)]     0           layer_normalization_89[0][0]     \n",
      "                                                                 dropout_96[0][0]                 \n",
      "__________________________________________________________________________________________________\n",
      "layer_normalization_90 (LayerNo (None, 32, 32)       64          tf_op_layer_AddV2_91[0][0]       \n",
      "__________________________________________________________________________________________________\n",
      "flatten_16 (Flatten)            (None, 1024)         0           layer_normalization_90[0][0]     \n",
      "__________________________________________________________________________________________________\n",
      "dense_336 (Dense)               (None, 1)            1025        flatten_16[0][0]                 \n",
      "==================================================================================================\n",
      "Total params: 280,321\n",
      "Trainable params: 280,321\n",
      "Non-trainable params: 0\n",
      "__________________________________________________________________________________________________\n"
     ]
    }
   ],
   "source": [
    "modelTransformer.compile(optimizer=optimizer , loss=\"binary_crossentropy\", metrics=['accuracy', metrics.AUC(name=\"auc\")])\n",
    "modelTransformer.summary()"
   ]
  },
  {
   "cell_type": "code",
   "execution_count": 120,
   "metadata": {},
   "outputs": [
    {
     "data": {
      "text/plain": [
       "(1520000, 32, 32)"
      ]
     },
     "execution_count": 120,
     "metadata": {},
     "output_type": "execute_result"
    }
   ],
   "source": [
    "Xim_train.shape"
   ]
  },
  {
   "cell_type": "code",
   "execution_count": 63,
   "metadata": {},
   "outputs": [
    {
     "data": {
      "text/plain": [
       "(1520000,)"
      ]
     },
     "execution_count": 63,
     "metadata": {},
     "output_type": "execute_result"
    }
   ],
   "source": [
    "yim_train.shape"
   ]
  },
  {
   "cell_type": "code",
   "execution_count": null,
   "metadata": {},
   "outputs": [],
   "source": []
  },
  {
   "cell_type": "code",
   "execution_count": 130,
   "metadata": {},
   "outputs": [
    {
     "name": "stdout",
     "output_type": "stream",
     "text": [
      "Epoch 1/400\n",
      "5938/5938 [==============================] - ETA: 0s - loss: 0.5253 - accuracy: 0.7342 - auc: 0.8134\n",
      "Epoch 00001: val_loss improved from inf to 0.45928, saving model to ./Keras_Tunner/Transformer_model_0p3\n"
     ]
    },
    {
     "name": "stderr",
     "output_type": "stream",
     "text": [
      "[2021-01-07 22:04:20,466] INFO: Assets written to: ./Keras_Tunner/Transformer_model_0p3/assets\n"
     ]
    },
    {
     "name": "stdout",
     "output_type": "stream",
     "text": [
      "5938/5938 [==============================] - 1132s 191ms/step - loss: 0.5253 - accuracy: 0.7342 - auc: 0.8134 - val_loss: 0.4593 - val_accuracy: 0.7809 - val_auc: 0.8649\n",
      "Epoch 2/400\n",
      "5938/5938 [==============================] - ETA: 0s - loss: 0.4183 - accuracy: 0.8060 - auc: 0.8892\n",
      "Epoch 00002: val_loss improved from 0.45928 to 0.39053, saving model to ./Keras_Tunner/Transformer_model_0p3\n"
     ]
    },
    {
     "name": "stderr",
     "output_type": "stream",
     "text": [
      "[2021-01-07 22:22:56,557] INFO: Assets written to: ./Keras_Tunner/Transformer_model_0p3/assets\n"
     ]
    },
    {
     "name": "stdout",
     "output_type": "stream",
     "text": [
      "5938/5938 [==============================] - 1116s 188ms/step - loss: 0.4183 - accuracy: 0.8060 - auc: 0.8892 - val_loss: 0.3905 - val_accuracy: 0.8230 - val_auc: 0.9045\n",
      "Epoch 3/400\n",
      "5938/5938 [==============================] - ETA: 0s - loss: 0.3615 - accuracy: 0.8379 - auc: 0.9189\n",
      "Epoch 00003: val_loss improved from 0.39053 to 0.35560, saving model to ./Keras_Tunner/Transformer_model_0p3\n"
     ]
    },
    {
     "name": "stderr",
     "output_type": "stream",
     "text": [
      "[2021-01-07 22:41:34,265] INFO: Assets written to: ./Keras_Tunner/Transformer_model_0p3/assets\n"
     ]
    },
    {
     "name": "stdout",
     "output_type": "stream",
     "text": [
      "5938/5938 [==============================] - 1118s 188ms/step - loss: 0.3615 - accuracy: 0.8379 - auc: 0.9189 - val_loss: 0.3556 - val_accuracy: 0.8412 - val_auc: 0.9222\n",
      "Epoch 4/400\n",
      "5938/5938 [==============================] - ETA: 0s - loss: 0.3271 - accuracy: 0.8560 - auc: 0.9342\n",
      "Epoch 00004: val_loss improved from 0.35560 to 0.32339, saving model to ./Keras_Tunner/Transformer_model_0p3\n"
     ]
    },
    {
     "name": "stderr",
     "output_type": "stream",
     "text": [
      "[2021-01-07 23:00:27,850] INFO: Assets written to: ./Keras_Tunner/Transformer_model_0p3/assets\n"
     ]
    },
    {
     "name": "stdout",
     "output_type": "stream",
     "text": [
      "5938/5938 [==============================] - 1133s 191ms/step - loss: 0.3271 - accuracy: 0.8560 - auc: 0.9342 - val_loss: 0.3234 - val_accuracy: 0.8580 - val_auc: 0.9363\n",
      "Epoch 5/400\n",
      "5938/5938 [==============================] - ETA: 0s - loss: 0.3031 - accuracy: 0.8680 - auc: 0.9437\n",
      "Epoch 00005: val_loss improved from 0.32339 to 0.30747, saving model to ./Keras_Tunner/Transformer_model_0p3\n"
     ]
    },
    {
     "name": "stderr",
     "output_type": "stream",
     "text": [
      "[2021-01-07 23:19:29,421] INFO: Assets written to: ./Keras_Tunner/Transformer_model_0p3/assets\n"
     ]
    },
    {
     "name": "stdout",
     "output_type": "stream",
     "text": [
      "5938/5938 [==============================] - 1141s 192ms/step - loss: 0.3031 - accuracy: 0.8680 - auc: 0.9437 - val_loss: 0.3075 - val_accuracy: 0.8667 - val_auc: 0.9426\n",
      "Epoch 6/400\n",
      "5938/5938 [==============================] - ETA: 0s - loss: 0.2854 - accuracy: 0.8770 - auc: 0.9502\n",
      "Epoch 00006: val_loss improved from 0.30747 to 0.30559, saving model to ./Keras_Tunner/Transformer_model_0p3\n"
     ]
    },
    {
     "name": "stderr",
     "output_type": "stream",
     "text": [
      "[2021-01-07 23:38:35,162] INFO: Assets written to: ./Keras_Tunner/Transformer_model_0p3/assets\n"
     ]
    },
    {
     "name": "stdout",
     "output_type": "stream",
     "text": [
      "5938/5938 [==============================] - 1146s 193ms/step - loss: 0.2854 - accuracy: 0.8770 - auc: 0.9502 - val_loss: 0.3056 - val_accuracy: 0.8689 - val_auc: 0.9436\n",
      "Epoch 7/400\n",
      "5938/5938 [==============================] - ETA: 0s - loss: 0.2714 - accuracy: 0.8838 - auc: 0.9551\n",
      "Epoch 00007: val_loss improved from 0.30559 to 0.28625, saving model to ./Keras_Tunner/Transformer_model_0p3\n"
     ]
    },
    {
     "name": "stderr",
     "output_type": "stream",
     "text": [
      "[2021-01-07 23:57:33,198] INFO: Assets written to: ./Keras_Tunner/Transformer_model_0p3/assets\n"
     ]
    },
    {
     "name": "stdout",
     "output_type": "stream",
     "text": [
      "5938/5938 [==============================] - 1138s 192ms/step - loss: 0.2714 - accuracy: 0.8838 - auc: 0.9551 - val_loss: 0.2862 - val_accuracy: 0.8783 - val_auc: 0.9504\n",
      "Epoch 8/400\n",
      "5938/5938 [==============================] - ETA: 0s - loss: 0.2601 - accuracy: 0.8892 - auc: 0.9587\n",
      "Epoch 00008: val_loss improved from 0.28625 to 0.28105, saving model to ./Keras_Tunner/Transformer_model_0p3\n"
     ]
    },
    {
     "name": "stderr",
     "output_type": "stream",
     "text": [
      "[2021-01-08 00:16:18,455] INFO: Assets written to: ./Keras_Tunner/Transformer_model_0p3/assets\n"
     ]
    },
    {
     "name": "stdout",
     "output_type": "stream",
     "text": [
      "5938/5938 [==============================] - 1125s 189ms/step - loss: 0.2601 - accuracy: 0.8892 - auc: 0.9587 - val_loss: 0.2810 - val_accuracy: 0.8810 - val_auc: 0.9523\n",
      "Epoch 9/400\n",
      "5938/5938 [==============================] - ETA: 0s - loss: 0.2503 - accuracy: 0.8940 - auc: 0.9618\n",
      "Epoch 00009: val_loss improved from 0.28105 to 0.28032, saving model to ./Keras_Tunner/Transformer_model_0p3\n"
     ]
    },
    {
     "name": "stderr",
     "output_type": "stream",
     "text": [
      "[2021-01-08 00:34:48,711] INFO: Assets written to: ./Keras_Tunner/Transformer_model_0p3/assets\n"
     ]
    },
    {
     "name": "stdout",
     "output_type": "stream",
     "text": [
      "5938/5938 [==============================] - 1110s 187ms/step - loss: 0.2503 - accuracy: 0.8940 - auc: 0.9618 - val_loss: 0.2803 - val_accuracy: 0.8817 - val_auc: 0.9526\n",
      "Epoch 10/400\n",
      "5938/5938 [==============================] - ETA: 0s - loss: 0.2416 - accuracy: 0.8978 - auc: 0.9644\n",
      "Epoch 00010: val_loss improved from 0.28032 to 0.26967, saving model to ./Keras_Tunner/Transformer_model_0p3\n"
     ]
    },
    {
     "name": "stderr",
     "output_type": "stream",
     "text": [
      "[2021-01-08 00:53:32,427] INFO: Assets written to: ./Keras_Tunner/Transformer_model_0p3/assets\n"
     ]
    },
    {
     "name": "stdout",
     "output_type": "stream",
     "text": [
      "5938/5938 [==============================] - 1124s 189ms/step - loss: 0.2416 - accuracy: 0.8978 - auc: 0.9644 - val_loss: 0.2697 - val_accuracy: 0.8873 - val_auc: 0.9566\n",
      "Epoch 11/400\n",
      "5938/5938 [==============================] - ETA: 0s - loss: 0.2346 - accuracy: 0.9010 - auc: 0.9664\n",
      "Epoch 00011: val_loss improved from 0.26967 to 0.26223, saving model to ./Keras_Tunner/Transformer_model_0p3\n"
     ]
    },
    {
     "name": "stderr",
     "output_type": "stream",
     "text": [
      "[2021-01-08 01:12:11,941] INFO: Assets written to: ./Keras_Tunner/Transformer_model_0p3/assets\n"
     ]
    },
    {
     "name": "stdout",
     "output_type": "stream",
     "text": [
      "5938/5938 [==============================] - 1119s 188ms/step - loss: 0.2346 - accuracy: 0.9010 - auc: 0.9664 - val_loss: 0.2622 - val_accuracy: 0.8905 - val_auc: 0.9584\n",
      "Epoch 12/400\n",
      "5938/5938 [==============================] - ETA: 0s - loss: 0.2279 - accuracy: 0.9044 - auc: 0.9683\n",
      "Epoch 00012: val_loss did not improve from 0.26223\n",
      "5938/5938 [==============================] - 1115s 188ms/step - loss: 0.2279 - accuracy: 0.9044 - auc: 0.9683 - val_loss: 0.2663 - val_accuracy: 0.8888 - val_auc: 0.9576\n",
      "Epoch 13/400\n",
      "5938/5938 [==============================] - ETA: 0s - loss: 0.2215 - accuracy: 0.9071 - auc: 0.9700\n",
      "Epoch 00013: val_loss improved from 0.26223 to 0.26134, saving model to ./Keras_Tunner/Transformer_model_0p3\n"
     ]
    },
    {
     "name": "stderr",
     "output_type": "stream",
     "text": [
      "[2021-01-08 01:48:50,079] INFO: Assets written to: ./Keras_Tunner/Transformer_model_0p3/assets\n"
     ]
    },
    {
     "name": "stdout",
     "output_type": "stream",
     "text": [
      "5938/5938 [==============================] - 1083s 182ms/step - loss: 0.2215 - accuracy: 0.9071 - auc: 0.9700 - val_loss: 0.2613 - val_accuracy: 0.8915 - val_auc: 0.9589\n",
      "Epoch 14/400\n",
      "5938/5938 [==============================] - ETA: 0s - loss: 0.2161 - accuracy: 0.9098 - auc: 0.9715\n",
      "Epoch 00014: val_loss did not improve from 0.26134\n",
      "5938/5938 [==============================] - 1122s 189ms/step - loss: 0.2161 - accuracy: 0.9098 - auc: 0.9715 - val_loss: 0.2617 - val_accuracy: 0.8925 - val_auc: 0.9595\n",
      "Epoch 15/400\n",
      "5938/5938 [==============================] - ETA: 0s - loss: 0.2119 - accuracy: 0.9115 - auc: 0.9725\n",
      "Epoch 00015: val_loss improved from 0.26134 to 0.25276, saving model to ./Keras_Tunner/Transformer_model_0p3\n"
     ]
    },
    {
     "name": "stderr",
     "output_type": "stream",
     "text": [
      "[2021-01-08 02:25:17,679] INFO: Assets written to: ./Keras_Tunner/Transformer_model_0p3/assets\n"
     ]
    },
    {
     "name": "stdout",
     "output_type": "stream",
     "text": [
      "5938/5938 [==============================] - 1066s 179ms/step - loss: 0.2119 - accuracy: 0.9115 - auc: 0.9725 - val_loss: 0.2528 - val_accuracy: 0.8964 - val_auc: 0.9619\n",
      "Epoch 16/400\n",
      "5938/5938 [==============================] - ETA: 0s - loss: 0.2071 - accuracy: 0.9137 - auc: 0.9738\n",
      "Epoch 00016: val_loss improved from 0.25276 to 0.25191, saving model to ./Keras_Tunner/Transformer_model_0p3\n"
     ]
    },
    {
     "name": "stderr",
     "output_type": "stream",
     "text": [
      "[2021-01-08 02:43:45,289] INFO: Assets written to: ./Keras_Tunner/Transformer_model_0p3/assets\n"
     ]
    },
    {
     "name": "stdout",
     "output_type": "stream",
     "text": [
      "5938/5938 [==============================] - 1107s 186ms/step - loss: 0.2071 - accuracy: 0.9137 - auc: 0.9738 - val_loss: 0.2519 - val_accuracy: 0.8970 - val_auc: 0.9625\n",
      "Epoch 17/400\n",
      "5938/5938 [==============================] - ETA: 0s - loss: 0.2033 - accuracy: 0.9155 - auc: 0.9747\n",
      "Epoch 00017: val_loss improved from 0.25191 to 0.24869, saving model to ./Keras_Tunner/Transformer_model_0p3\n"
     ]
    },
    {
     "name": "stderr",
     "output_type": "stream",
     "text": [
      "[2021-01-08 03:02:17,246] INFO: Assets written to: ./Keras_Tunner/Transformer_model_0p3/assets\n"
     ]
    },
    {
     "name": "stdout",
     "output_type": "stream",
     "text": [
      "5938/5938 [==============================] - 1112s 187ms/step - loss: 0.2033 - accuracy: 0.9155 - auc: 0.9747 - val_loss: 0.2487 - val_accuracy: 0.8979 - val_auc: 0.9630\n",
      "Epoch 18/400\n",
      "5938/5938 [==============================] - ETA: 0s - loss: 0.1995 - accuracy: 0.9170 - auc: 0.9756\n",
      "Epoch 00018: val_loss did not improve from 0.24869\n",
      "5938/5938 [==============================] - 1105s 186ms/step - loss: 0.1995 - accuracy: 0.9170 - auc: 0.9756 - val_loss: 0.2488 - val_accuracy: 0.8976 - val_auc: 0.9631\n",
      "Epoch 19/400\n",
      "5938/5938 [==============================] - ETA: 0s - loss: 0.1956 - accuracy: 0.9188 - auc: 0.9765\n",
      "Epoch 00019: val_loss did not improve from 0.24869\n",
      "5938/5938 [==============================] - 1080s 182ms/step - loss: 0.1956 - accuracy: 0.9188 - auc: 0.9765 - val_loss: 0.2505 - val_accuracy: 0.8980 - val_auc: 0.9635\n",
      "Epoch 20/400\n",
      "5938/5938 [==============================] - ETA: 0s - loss: 0.1926 - accuracy: 0.9199 - auc: 0.9773\n",
      "Epoch 00020: val_loss improved from 0.24869 to 0.24840, saving model to ./Keras_Tunner/Transformer_model_0p3\n"
     ]
    },
    {
     "name": "stderr",
     "output_type": "stream",
     "text": [
      "[2021-01-08 03:56:39,765] INFO: Assets written to: ./Keras_Tunner/Transformer_model_0p3/assets\n"
     ]
    },
    {
     "name": "stdout",
     "output_type": "stream",
     "text": [
      "5938/5938 [==============================] - 1077s 181ms/step - loss: 0.1926 - accuracy: 0.9199 - auc: 0.9773 - val_loss: 0.2484 - val_accuracy: 0.8992 - val_auc: 0.9640\n",
      "Epoch 21/400\n",
      "5938/5938 [==============================] - ETA: 0s - loss: 0.1890 - accuracy: 0.9216 - auc: 0.9781\n",
      "Epoch 00021: val_loss improved from 0.24840 to 0.24579, saving model to ./Keras_Tunner/Transformer_model_0p3\n"
     ]
    },
    {
     "name": "stderr",
     "output_type": "stream",
     "text": [
      "[2021-01-08 04:15:28,225] INFO: Assets written to: ./Keras_Tunner/Transformer_model_0p3/assets\n"
     ]
    },
    {
     "name": "stdout",
     "output_type": "stream",
     "text": [
      "5938/5938 [==============================] - 1128s 190ms/step - loss: 0.1890 - accuracy: 0.9216 - auc: 0.9781 - val_loss: 0.2458 - val_accuracy: 0.9006 - val_auc: 0.9644\n",
      "Epoch 22/400\n",
      "5938/5938 [==============================] - ETA: 0s - loss: 0.1865 - accuracy: 0.9226 - auc: 0.9786\n",
      "Epoch 00022: val_loss improved from 0.24579 to 0.24469, saving model to ./Keras_Tunner/Transformer_model_0p3\n"
     ]
    },
    {
     "name": "stderr",
     "output_type": "stream",
     "text": [
      "[2021-01-08 04:34:08,249] INFO: Assets written to: ./Keras_Tunner/Transformer_model_0p3/assets\n"
     ]
    },
    {
     "name": "stdout",
     "output_type": "stream",
     "text": [
      "5938/5938 [==============================] - 1120s 189ms/step - loss: 0.1865 - accuracy: 0.9226 - auc: 0.9786 - val_loss: 0.2447 - val_accuracy: 0.9020 - val_auc: 0.9648\n",
      "Epoch 23/400\n",
      "5938/5938 [==============================] - ETA: 0s - loss: 0.1834 - accuracy: 0.9241 - auc: 0.9793\n",
      "Epoch 00023: val_loss did not improve from 0.24469\n",
      "5938/5938 [==============================] - 1119s 188ms/step - loss: 0.1834 - accuracy: 0.9241 - auc: 0.9793 - val_loss: 0.2497 - val_accuracy: 0.8998 - val_auc: 0.9640\n",
      "Epoch 24/400\n",
      "5938/5938 [==============================] - ETA: 0s - loss: 0.1811 - accuracy: 0.9251 - auc: 0.9798\n",
      "Epoch 00024: val_loss did not improve from 0.24469\n",
      "5938/5938 [==============================] - 1091s 184ms/step - loss: 0.1811 - accuracy: 0.9251 - auc: 0.9798 - val_loss: 0.2461 - val_accuracy: 0.9014 - val_auc: 0.9649\n",
      "Epoch 25/400\n",
      "5938/5938 [==============================] - ETA: 0s - loss: 0.1786 - accuracy: 0.9262 - auc: 0.9804\n",
      "Epoch 00025: val_loss did not improve from 0.24469\n",
      "Restoring model weights from the end of the best epoch.\n",
      "5938/5938 [==============================] - 1067s 180ms/step - loss: 0.1786 - accuracy: 0.9262 - auc: 0.9804 - val_loss: 0.2449 - val_accuracy: 0.9016 - val_auc: 0.9656\n",
      "Epoch 00025: early stopping\n"
     ]
    },
    {
     "data": {
      "text/plain": [
       "<tensorflow.python.keras.callbacks.History at 0x7f6ea2d042e8>"
      ]
     },
     "execution_count": 130,
     "metadata": {},
     "output_type": "execute_result"
    }
   ],
   "source": [
    "modelTransformer.fit(Xim_train, yim_train , validation_data=(Xim_val, yim_val), callbacks = callbacks, shuffle=True , epochs=400, batch_size=256, verbose=1)"
   ]
  },
  {
   "cell_type": "code",
   "execution_count": 131,
   "metadata": {},
   "outputs": [
    {
     "name": "stderr",
     "output_type": "stream",
     "text": [
      "[2021-01-08 05:28:51,722] INFO: Assets written to: ./Transformer_0p3/assets\n"
     ]
    }
   ],
   "source": [
    "modelTransformer.save(\"./Transformer_\"+rinv)\n"
   ]
  },
  {
   "cell_type": "code",
   "execution_count": 132,
   "metadata": {},
   "outputs": [
    {
     "name": "stdout",
     "output_type": "stream",
     "text": [
      "The area under the curves are:\n",
      "AUC:0.034480469\n",
      "AUC:0.965519531\n"
     ]
    },
    {
     "data": {
      "image/png": "[encoded data removed]",
      "text/plain": [
       "<Figure size 576x576 with 1 Axes>"
      ]
     },
     "metadata": {
      "needs_background": "light"
     },
     "output_type": "display_data"
    }
   ],
   "source": [
    "y_score = modelTransformer.predict(Xim_test)[:,0]\n",
    "y_score = np.hstack(y_score)\n",
    "# test=[i[1] for i in yim_test]\n",
    "fpr , tpr , thresholds = roc_curve ( yim_test , y_score)\n",
    "roc_auc = auc(tpr,fpr )\n",
    "print(\"The area under the curves are:\")\n",
    "print(\"AUC:{0:.9f}\".format(roc_auc))\n",
    "if roc_auc<0.5:\n",
    "    a = tpr\n",
    "    tpr = fpr\n",
    "    fpr = a\n",
    "    roc_auc = 1 - roc_auc\n",
    "    print(\"AUC:{0:.9f}\".format(roc_auc))\n",
    "    \n",
    "# FalsePositiveFull, TruePositiveFull, ThresholdFull = metrics.roc_curve(y_test,Predictions)\n",
    "plt.figure(figsize=(8,8))\n",
    "\n",
    "plt.plot(tpr,fpr, label='Fully supervised: AUC={0:.5f}'.format(roc_auc))\n",
    "plt.ylabel('False Positive Rate',fontsize=20)\n",
    "plt.xlabel('True Positive Rate',fontsize=20)\n",
    "plt.plot([0, 1], [0, 1], 'k--')\n",
    "# plt.legend()\n",
    "# plt.legend(bbox_to_anchor=(0.8, -0.17),ncol=2)\n",
    "\n",
    "plt.legend(prop={'size': 14})\n",
    "\n",
    "\n",
    "\n",
    "plt.savefig(\"./Transformer_\"+rinv+\"_roc.png\")\n",
    "\n",
    "# hf = h5py.File(\"./Keras_Tunner/PR_all_\"+rinv+\"_\"+optn+\"_filter_preprocessing.h5\", 'w')\n",
    "hf = h5py.File(\"./Transformer_\"+rinv+\".h5\", 'w')\n",
    "\n",
    "hf.create_dataset('fpr', data=fpr)\n",
    "hf.create_dataset('tpr', data=tpr)\n",
    "hf.close()\n",
    "\n",
    "\n",
    "plt.show()"
   ]
  },
  {
   "cell_type": "code",
   "execution_count": 133,
   "metadata": {},
   "outputs": [
    {
     "data": {
      "image/png": "[encoded data removed]",
      "text/plain": [
       "<Figure size 576x576 with 1 Axes>"
      ]
     },
     "metadata": {
      "needs_background": "light"
     },
     "output_type": "display_data"
    }
   ],
   "source": [
    "plt.figure(figsize=(8,8))\n",
    "# LOSS = pd.read_csv(save_dir+\"CNN_\"+rinv+\"_\"+optn+\"_filter.csv\")\n",
    "# LOSS = pd.read_csv(save_dir+\"CNN_all_\"+rinv+\"_\"+optn+\"_filter_preprocessing.csv\")\n",
    "LOSS = pd.read_csv(save_dir+model_type+rinv+'.csv')\n",
    "\n",
    "\n",
    "plt.title(\"Learning Curve\")\n",
    "plt.plot(LOSS[\"loss\"], label='loss',c='blue')\n",
    "plt.plot(LOSS[\"val_loss\"], label='val_loss',c='red')\n",
    "plt.plot(LOSS[\"accuracy\"], linestyle='--', label='accuracy',c='blue')\n",
    "plt.plot(LOSS[\"val_accuracy\"], linestyle='--', label='val_accuracy',c='red')\n",
    "\n",
    "plt.plot(LOSS[\"auc\"], linestyle=':', label='auc',c='blue')\n",
    "plt.plot(LOSS[\"val_auc\"], linestyle=':', label='val_auc',c='red')\n",
    "# plt.plot([0, 1], [1, 1], '--')\n",
    "\n",
    "# plt.ylim([0.3,1])\n",
    "plt.ylabel('loss',fontsize=20)\n",
    "plt.xlabel('epoch',fontsize=20)\n",
    "# plt.legend(bbox_to_anchor=(0.8, -0.17),ncol=2)\n",
    "plt.legend(bbox_to_anchor=(0.8, -0.17),ncol=2)\n",
    "plt.tight_layout()\n",
    "# plt.savefig(\"./Keras_Tunner/CNN_\"+rinv+\"_\"+optn+\"_filter_loss.png\")\n",
    "# plt.savefig(\"./Keras_Tunner/CNN_all_\"+rinv+\"_\"+optn+\"_filter_loss_preprocessing.png\")\n",
    "plt.savefig(\"./Transformer_\"+rinv+\"_loss.png\")\n",
    "\n",
    "\n",
    "\n",
    "plt.show()"
   ]
  },
  {
   "cell_type": "code",
   "execution_count": null,
   "metadata": {},
   "outputs": [],
   "source": []
  },
  {
   "cell_type": "markdown",
   "metadata": {},
   "source": [
    "# Example"
   ]
  },
  {
   "cell_type": "code",
   "execution_count": 13,
   "metadata": {},
   "outputs": [],
   "source": [
    "import tensorflow_datasets as tfds"
   ]
  },
  {
   "cell_type": "code",
   "execution_count": 14,
   "metadata": {},
   "outputs": [
    {
     "name": "stderr",
     "output_type": "stream",
     "text": [
      "[2021-01-06 00:38:05,768] INFO: Load pre-computed DatasetInfo (eg: splits, num examples,...) from GCS: ted_hrlr_translate/pt_to_en/1.0.0\n",
      "[2021-01-06 00:38:06,271] INFO: Load dataset info from /tmp/tmpvi1bzvcjtfds\n",
      "[2021-01-06 00:38:06,276] INFO: Field info.description from disk and from code do not match. Keeping the one from code.\n",
      "[2021-01-06 00:38:06,277] INFO: Field info.config_name from disk and from code do not match. Keeping the one from code.\n",
      "[2021-01-06 00:38:06,280] INFO: Field info.config_description from disk and from code do not match. Keeping the one from code.\n",
      "[2021-01-06 00:38:06,281] INFO: Field info.citation from disk and from code do not match. Keeping the one from code.\n",
      "[2021-01-06 00:38:06,282] INFO: Generating dataset ted_hrlr_translate (/root/tensorflow_datasets/ted_hrlr_translate/pt_to_en/1.0.0)\n"
     ]
    },
    {
     "name": "stdout",
     "output_type": "stream",
     "text": [
      "\u001b[1mDownloading and preparing dataset ted_hrlr_translate/pt_to_en/1.0.0 (download: 124.94 MiB, generated: Unknown size, total: 124.94 MiB) to /root/tensorflow_datasets/ted_hrlr_translate/pt_to_en/1.0.0...\u001b[0m\n"
     ]
    },
    {
     "data": {
      "application/vnd.jupyter.widget-view+json": {
       "model_id": "6d0be1782af14a4d8c505b1ed3e2bb92",
       "version_major": 2,
       "version_minor": 0
      },
      "text/plain": [
       "HBox(children=(HTML(value='Dl Completed...'), FloatProgress(value=1.0, bar_style='info', layout=Layout(width='…"
      ]
     },
     "metadata": {},
     "output_type": "display_data"
    },
    {
     "data": {
      "application/vnd.jupyter.widget-view+json": {
       "model_id": "4720f713bf884c4ab7f591cc55ed0019",
       "version_major": 2,
       "version_minor": 0
      },
      "text/plain": [
       "HBox(children=(HTML(value='Dl Size...'), FloatProgress(value=1.0, bar_style='info', layout=Layout(width='20px'…"
      ]
     },
     "metadata": {},
     "output_type": "display_data"
    },
    {
     "data": {
      "application/vnd.jupyter.widget-view+json": {
       "model_id": "46c4a1722bb64bd3aaee141e2ec96976",
       "version_major": 2,
       "version_minor": 0
      },
      "text/plain": [
       "HBox(children=(HTML(value='Extraction completed...'), FloatProgress(value=1.0, bar_style='info', layout=Layout…"
      ]
     },
     "metadata": {},
     "output_type": "display_data"
    },
    {
     "name": "stderr",
     "output_type": "stream",
     "text": [
      "[2021-01-06 00:38:06,978] INFO: Downloading http://www.phontron.com/data/qi18naacl-dataset.tar.gz into /root/tensorflow_datasets/downloads/phontron.com_qi18naacl-datasetLVhDyvf9PQ-GjP4jim31ESZuvRjHI5wpNhR5SJvsNOo.tar.gz.tmp.25e1eba1950a4b58a1b5ef8464586e13...\n"
     ]
    },
    {
     "name": "stdout",
     "output_type": "stream",
     "text": [
      "\n",
      "\n",
      "\n",
      "\n",
      "\n",
      "\n"
     ]
    },
    {
     "data": {
      "application/vnd.jupyter.widget-view+json": {
       "model_id": "1ba53e21cb4f48b589a8afd67ec1f73c",
       "version_major": 2,
       "version_minor": 0
      },
      "text/plain": [
       "HBox(children=(HTML(value=''), FloatProgress(value=0.0, max=3.0), HTML(value='')))"
      ]
     },
     "metadata": {},
     "output_type": "display_data"
    },
    {
     "data": {
      "application/vnd.jupyter.widget-view+json": {
       "model_id": "772520c739ee4aa395a42bc75b99ee05",
       "version_major": 2,
       "version_minor": 0
      },
      "text/plain": [
       "HBox(children=(HTML(value=''), FloatProgress(value=0.0, max=51785.0), HTML(value='')))"
      ]
     },
     "metadata": {},
     "output_type": "display_data"
    },
    {
     "name": "stdout",
     "output_type": "stream",
     "text": [
      "Shuffling and writing examples to /root/tensorflow_datasets/ted_hrlr_translate/pt_to_en/1.0.0.incompleteT4TNJ6/ted_hrlr_translate-train.tfrecord\n"
     ]
    },
    {
     "data": {
      "application/vnd.jupyter.widget-view+json": {
       "model_id": "ac634bbad6e144118e56871bf293ec2f",
       "version_major": 2,
       "version_minor": 0
      },
      "text/plain": [
       "HBox(children=(HTML(value=''), FloatProgress(value=0.0, max=51785.0), HTML(value='')))"
      ]
     },
     "metadata": {},
     "output_type": "display_data"
    },
    {
     "name": "stderr",
     "output_type": "stream",
     "text": [
      "[2021-01-06 00:38:36,384] INFO: Done writing /root/tensorflow_datasets/ted_hrlr_translate/pt_to_en/1.0.0.incompleteT4TNJ6/ted_hrlr_translate-train.tfrecord. Shard lengths: [51785]\n"
     ]
    },
    {
     "data": {
      "application/vnd.jupyter.widget-view+json": {
       "model_id": "d4a63e0d5dc140a5b7c4d9c7f8fc3db3",
       "version_major": 2,
       "version_minor": 0
      },
      "text/plain": [
       "HBox(children=(HTML(value=''), FloatProgress(value=0.0, max=1193.0), HTML(value='')))"
      ]
     },
     "metadata": {},
     "output_type": "display_data"
    },
    {
     "name": "stdout",
     "output_type": "stream",
     "text": [
      "Shuffling and writing examples to /root/tensorflow_datasets/ted_hrlr_translate/pt_to_en/1.0.0.incompleteT4TNJ6/ted_hrlr_translate-validation.tfrecord\n"
     ]
    },
    {
     "data": {
      "application/vnd.jupyter.widget-view+json": {
       "model_id": "c9fce5f74fe048ba97ccc445164f95c3",
       "version_major": 2,
       "version_minor": 0
      },
      "text/plain": [
       "HBox(children=(HTML(value=''), FloatProgress(value=0.0, max=1193.0), HTML(value='')))"
      ]
     },
     "metadata": {},
     "output_type": "display_data"
    },
    {
     "name": "stderr",
     "output_type": "stream",
     "text": [
      "[2021-01-06 00:38:36,784] INFO: Done writing /root/tensorflow_datasets/ted_hrlr_translate/pt_to_en/1.0.0.incompleteT4TNJ6/ted_hrlr_translate-validation.tfrecord. Shard lengths: [1193]\n"
     ]
    },
    {
     "data": {
      "application/vnd.jupyter.widget-view+json": {
       "model_id": "23781e73ddbf4f7c8179b4ddf0811659",
       "version_major": 2,
       "version_minor": 0
      },
      "text/plain": [
       "HBox(children=(HTML(value=''), FloatProgress(value=0.0, max=1803.0), HTML(value='')))"
      ]
     },
     "metadata": {},
     "output_type": "display_data"
    },
    {
     "name": "stdout",
     "output_type": "stream",
     "text": [
      "Shuffling and writing examples to /root/tensorflow_datasets/ted_hrlr_translate/pt_to_en/1.0.0.incompleteT4TNJ6/ted_hrlr_translate-test.tfrecord\n"
     ]
    },
    {
     "data": {
      "application/vnd.jupyter.widget-view+json": {
       "model_id": "f2fcd7b3b7da4fa9813c19a4eb3c34c7",
       "version_major": 2,
       "version_minor": 0
      },
      "text/plain": [
       "HBox(children=(HTML(value=''), FloatProgress(value=0.0, max=1803.0), HTML(value='')))"
      ]
     },
     "metadata": {},
     "output_type": "display_data"
    },
    {
     "name": "stderr",
     "output_type": "stream",
     "text": [
      "[2021-01-06 00:38:37,327] INFO: Done writing /root/tensorflow_datasets/ted_hrlr_translate/pt_to_en/1.0.0.incompleteT4TNJ6/ted_hrlr_translate-test.tfrecord. Shard lengths: [1803]\n",
      "[2021-01-06 00:38:37,335] INFO: Skipping computing stats for mode ComputeStatsMode.SKIP.\n",
      "[2021-01-06 00:38:37,340] INFO: Constructing tf.data.Dataset for split None, from /root/tensorflow_datasets/ted_hrlr_translate/pt_to_en/1.0.0\n"
     ]
    },
    {
     "name": "stdout",
     "output_type": "stream",
     "text": [
      "\u001b[1mDataset ted_hrlr_translate downloaded and prepared to /root/tensorflow_datasets/ted_hrlr_translate/pt_to_en/1.0.0. Subsequent calls will reuse this data.\u001b[0m\n"
     ]
    }
   ],
   "source": [
    "examples, metadata = tfds.load('ted_hrlr_translate/pt_to_en', with_info=True,\n",
    "                               as_supervised=True)\n",
    "train_examples, val_examples = examples['train'], examples['validation']"
   ]
  },
  {
   "cell_type": "code",
   "execution_count": 15,
   "metadata": {},
   "outputs": [
    {
     "name": "stderr",
     "output_type": "stream",
     "text": [
      "[2021-01-06 00:39:43,436] INFO: SubwordTextEncoder build: trying min_token_count 24301\n",
      "[2021-01-06 00:39:49,923] INFO: SubwordTextEncoder build: trying min_token_count 12150\n",
      "[2021-01-06 00:39:55,935] INFO: SubwordTextEncoder build: trying min_token_count 6075\n",
      "[2021-01-06 00:40:01,429] INFO: SubwordTextEncoder build: trying min_token_count 3037\n",
      "[2021-01-06 00:40:06,533] INFO: SubwordTextEncoder build: trying min_token_count 1518\n",
      "[2021-01-06 00:40:11,313] INFO: SubwordTextEncoder build: trying min_token_count 759\n",
      "[2021-01-06 00:40:15,858] INFO: SubwordTextEncoder build: trying min_token_count 379\n",
      "[2021-01-06 00:40:20,236] INFO: SubwordTextEncoder build: trying min_token_count 189\n",
      "[2021-01-06 00:40:24,408] INFO: SubwordTextEncoder build: trying min_token_count 94\n",
      "[2021-01-06 00:40:28,463] INFO: SubwordTextEncoder build: trying min_token_count 47\n",
      "[2021-01-06 00:40:32,463] INFO: SubwordTextEncoder build: trying min_token_count 23\n",
      "[2021-01-06 00:40:36,462] INFO: SubwordTextEncoder build: trying min_token_count 11\n",
      "[2021-01-06 00:40:40,543] INFO: SubwordTextEncoder build: trying min_token_count 17\n",
      "[2021-01-06 00:40:44,533] INFO: SubwordTextEncoder build: trying min_token_count 20\n",
      "[2021-01-06 00:40:48,535] INFO: SubwordTextEncoder build: trying min_token_count 18\n",
      "[2021-01-06 00:40:52,569] INFO: SubwordTextEncoder build: trying min_token_count 19\n",
      "[2021-01-06 00:41:08,457] INFO: SubwordTextEncoder build: trying min_token_count 25260\n",
      "[2021-01-06 00:41:18,311] INFO: SubwordTextEncoder build: trying min_token_count 12630\n",
      "[2021-01-06 00:41:27,240] INFO: SubwordTextEncoder build: trying min_token_count 6315\n",
      "[2021-01-06 00:41:35,405] INFO: SubwordTextEncoder build: trying min_token_count 3157\n",
      "[2021-01-06 00:41:43,057] INFO: SubwordTextEncoder build: trying min_token_count 1578\n",
      "[2021-01-06 00:41:50,249] INFO: SubwordTextEncoder build: trying min_token_count 789\n",
      "[2021-01-06 00:41:57,107] INFO: SubwordTextEncoder build: trying min_token_count 394\n",
      "[2021-01-06 00:42:03,755] INFO: SubwordTextEncoder build: trying min_token_count 197\n",
      "[2021-01-06 00:42:10,056] INFO: SubwordTextEncoder build: trying min_token_count 98\n",
      "[2021-01-06 00:42:16,208] INFO: SubwordTextEncoder build: trying min_token_count 49\n",
      "[2021-01-06 00:42:22,227] INFO: SubwordTextEncoder build: trying min_token_count 24\n",
      "[2021-01-06 00:42:28,153] INFO: SubwordTextEncoder build: trying min_token_count 36\n",
      "[2021-01-06 00:42:34,109] INFO: SubwordTextEncoder build: trying min_token_count 30\n",
      "[2021-01-06 00:42:40,017] INFO: SubwordTextEncoder build: trying min_token_count 27\n",
      "[2021-01-06 00:42:45,913] INFO: SubwordTextEncoder build: trying min_token_count 25\n"
     ]
    }
   ],
   "source": [
    "tokenizer_en = tfds.deprecated.text.SubwordTextEncoder.build_from_corpus((en.numpy() for pt, en in train_examples), target_vocab_size=2**13)\n",
    "\n",
    "tokenizer_pt = tfds.deprecated.text.SubwordTextEncoder.build_from_corpus((pt.numpy() for pt, en in train_examples), target_vocab_size=2**13)"
   ]
  },
  {
   "cell_type": "code",
   "execution_count": 16,
   "metadata": {},
   "outputs": [
    {
     "name": "stdout",
     "output_type": "stream",
     "text": [
      "Tokenized string is [7915, 1248, 7946, 7194, 13, 2799, 7877]\n",
      "The original string: Transformer is awesome.\n"
     ]
    }
   ],
   "source": [
    "sample_string = 'Transformer is awesome.'\n",
    "\n",
    "tokenized_string = tokenizer_en.encode(sample_string)\n",
    "print ('Tokenized string is {}'.format(tokenized_string))\n",
    "\n",
    "original_string = tokenizer_en.decode(tokenized_string)\n",
    "print ('The original string: {}'.format(original_string))\n",
    "\n",
    "assert original_string == sample_string"
   ]
  },
  {
   "cell_type": "code",
   "execution_count": 17,
   "metadata": {},
   "outputs": [
    {
     "name": "stdout",
     "output_type": "stream",
     "text": [
      "7915 ----> T\n",
      "1248 ----> ran\n",
      "7946 ----> s\n",
      "7194 ----> former \n",
      "13 ----> is \n",
      "2799 ----> awesome\n",
      "7877 ----> .\n"
     ]
    }
   ],
   "source": [
    "for ts in tokenized_string:\n",
    "    print ('{} ----> {}'.format(ts, tokenizer_en.decode([ts])))"
   ]
  },
  {
   "cell_type": "code",
   "execution_count": 18,
   "metadata": {},
   "outputs": [],
   "source": [
    "BUFFER_SIZE = 20000\n",
    "BATCH_SIZE = 64"
   ]
  },
  {
   "cell_type": "code",
   "execution_count": 19,
   "metadata": {},
   "outputs": [],
   "source": [
    "def encode(lang1, lang2):\n",
    "    lang1 = [tokenizer_pt.vocab_size] + tokenizer_pt.encode(\n",
    "        lang1.numpy()) + [tokenizer_pt.vocab_size+1]\n",
    "    \n",
    "    lang2 = [tokenizer_en.vocab_size] + tokenizer_en.encode(\n",
    "        lang2.numpy()) + [tokenizer_en.vocab_size+1]\n",
    "    \n",
    "    return lang1, lang2"
   ]
  },
  {
   "cell_type": "code",
   "execution_count": 20,
   "metadata": {},
   "outputs": [],
   "source": [
    "def tf_encode(pt, en):\n",
    "    result_pt, result_en = tf.py_function(encode, [pt, en], [tf.int64, tf.int64])\n",
    "    result_pt.set_shape([None])\n",
    "    result_en.set_shape([None])\n",
    "    \n",
    "    return result_pt, result_en"
   ]
  },
  {
   "cell_type": "code",
   "execution_count": 21,
   "metadata": {},
   "outputs": [],
   "source": [
    "MAX_LENGTH = 40\n"
   ]
  },
  {
   "cell_type": "code",
   "execution_count": 22,
   "metadata": {},
   "outputs": [],
   "source": [
    "def filter_max_length(x, y, max_length=MAX_LENGTH):\n",
    "    return tf.logical_and(tf.size(x) <= max_length,\n",
    "                          tf.size(y) <= max_length)"
   ]
  },
  {
   "cell_type": "code",
   "execution_count": 23,
   "metadata": {},
   "outputs": [],
   "source": [
    "train_dataset = train_examples.map(tf_encode)\n",
    "train_dataset = train_dataset.filter(filter_max_length)\n",
    "# cache the dataset to memory to get a speedup while reading from it.\n",
    "train_dataset = train_dataset.cache()\n",
    "train_dataset = train_dataset.shuffle(BUFFER_SIZE).padded_batch(BATCH_SIZE)\n",
    "train_dataset = train_dataset.prefetch(tf.data.experimental.AUTOTUNE)\n",
    "\n",
    "\n",
    "val_dataset = val_examples.map(tf_encode)\n",
    "val_dataset = val_dataset.filter(filter_max_length).padded_batch(BATCH_SIZE)"
   ]
  },
  {
   "cell_type": "code",
   "execution_count": 24,
   "metadata": {},
   "outputs": [
    {
     "data": {
      "text/plain": [
       "(<tf.Tensor: shape=(64, 38), dtype=int64, numpy=\n",
       " array([[8214,  342, 3032, ...,    0,    0,    0],\n",
       "        [8214,   95,  198, ...,    0,    0,    0],\n",
       "        [8214, 4479, 7990, ...,    0,    0,    0],\n",
       "        ...,\n",
       "        [8214,  584,   12, ...,    0,    0,    0],\n",
       "        [8214,   59, 1548, ...,    0,    0,    0],\n",
       "        [8214,  118,   34, ...,    0,    0,    0]])>,\n",
       " <tf.Tensor: shape=(64, 40), dtype=int64, numpy=\n",
       " array([[8087,   98,   25, ...,    0,    0,    0],\n",
       "        [8087,   12,   20, ...,    0,    0,    0],\n",
       "        [8087,   12, 5453, ...,    0,    0,    0],\n",
       "        ...,\n",
       "        [8087,   18, 2059, ...,    0,    0,    0],\n",
       "        [8087,   16, 1436, ...,    0,    0,    0],\n",
       "        [8087,   15,   57, ...,    0,    0,    0]])>)"
      ]
     },
     "execution_count": 24,
     "metadata": {},
     "output_type": "execute_result"
    }
   ],
   "source": [
    "pt_batch, en_batch = next(iter(val_dataset))\n",
    "pt_batch, en_batch"
   ]
  },
  {
   "cell_type": "code",
   "execution_count": 29,
   "metadata": {},
   "outputs": [
    {
     "data": {
      "text/plain": [
       "<tf.Tensor: shape=(40,), dtype=int64, numpy=\n",
       "array([8087,   98,   25, 1037, 1903,    4, 7283,   33, 8088,    0,    0,\n",
       "          0,    0,    0,    0,    0,    0,    0,    0,    0,    0,    0,\n",
       "          0,    0,    0,    0,    0,    0,    0,    0,    0,    0,    0,\n",
       "          0,    0,    0,    0,    0,    0,    0])>"
      ]
     },
     "execution_count": 29,
     "metadata": {},
     "output_type": "execute_result"
    }
   ],
   "source": [
    "en_batch[0]"
   ]
  },
  {
   "cell_type": "code",
   "execution_count": 45,
   "metadata": {},
   "outputs": [],
   "source": [
    "def get_angles(pos, i, d_model):\n",
    "    angle_rates = 1 / np.power(10000, (2 * (i//2)) / np.float32(d_model))\n",
    "    return pos * angle_rates"
   ]
  },
  {
   "cell_type": "code",
   "execution_count": 46,
   "metadata": {},
   "outputs": [],
   "source": [
    "def positional_encoding(position, d_model):\n",
    "    angle_rads = get_angles(np.arange(position)[:, np.newaxis],\n",
    "                            np.arange(d_model)[np.newaxis, :],\n",
    "                            d_model)\n",
    "    \n",
    "    # apply sin to even indices in the array; 2i\n",
    "    angle_rads[:, 0::2] = np.sin(angle_rads[:, 0::2])\n",
    "    \n",
    "    # apply cos to odd indices in the array; 2i+1\n",
    "    angle_rads[:, 1::2] = np.cos(angle_rads[:, 1::2])\n",
    "    \n",
    "    pos_encoding = angle_rads[np.newaxis, ...]\n",
    "    \n",
    "    return tf.cast(pos_encoding, dtype=tf.float32)"
   ]
  },
  {
   "cell_type": "code",
   "execution_count": 47,
   "metadata": {},
   "outputs": [
    {
     "name": "stdout",
     "output_type": "stream",
     "text": [
      "(1, 50, 512)\n"
     ]
    },
    {
     "data": {
      "image/png": "[encoded data removed]",
      "text/plain": [
       "<Figure size 432x288 with 2 Axes>"
      ]
     },
     "metadata": {
      "needs_background": "light"
     },
     "output_type": "display_data"
    }
   ],
   "source": [
    "pos_encoding = positional_encoding(50, 512)\n",
    "print (pos_encoding.shape)\n",
    "\n",
    "plt.pcolormesh(pos_encoding[0], cmap='RdBu')\n",
    "plt.xlabel('Depth')\n",
    "plt.xlim((0, 512))\n",
    "plt.ylabel('Position')\n",
    "plt.colorbar()\n",
    "plt.show()"
   ]
  },
  {
   "cell_type": "code",
   "execution_count": 30,
   "metadata": {},
   "outputs": [],
   "source": [
    "def create_padding_mask(seq):\n",
    "    seq = tf.cast(tf.math.equal(seq, 0), tf.float32)\n",
    "    \n",
    "    # add extra dimensions to add the padding\n",
    "    # to the attention logits.\n",
    "    return seq[:, tf.newaxis, tf.newaxis, :]  # (batch_size, 1, 1, seq_len)"
   ]
  },
  {
   "cell_type": "code",
   "execution_count": 31,
   "metadata": {},
   "outputs": [
    {
     "data": {
      "text/plain": [
       "<tf.Tensor: shape=(3, 1, 1, 5), dtype=float32, numpy=\n",
       "array([[[[0., 0., 1., 1., 0.]]],\n",
       "\n",
       "\n",
       "       [[[0., 0., 0., 1., 1.]]],\n",
       "\n",
       "\n",
       "       [[[1., 1., 1., 0., 0.]]]], dtype=float32)>"
      ]
     },
     "execution_count": 31,
     "metadata": {},
     "output_type": "execute_result"
    }
   ],
   "source": [
    "x = tf.constant([[7, 6, 0, 0, 1], [1, 2, 3, 0, 0], [0, 0, 0, 4, 5]])\n",
    "create_padding_mask(x)"
   ]
  },
  {
   "cell_type": "code",
   "execution_count": 32,
   "metadata": {},
   "outputs": [],
   "source": [
    "def create_look_ahead_mask(size):\n",
    "    mask = 1 - tf.linalg.band_part(tf.ones((size, size)), -1, 0)\n",
    "    return mask  # (seq_len, seq_len)"
   ]
  },
  {
   "cell_type": "code",
   "execution_count": 33,
   "metadata": {},
   "outputs": [
    {
     "data": {
      "text/plain": [
       "<tf.Tensor: shape=(3, 3), dtype=float32, numpy=\n",
       "array([[0., 1., 1.],\n",
       "       [0., 0., 1.],\n",
       "       [0., 0., 0.]], dtype=float32)>"
      ]
     },
     "execution_count": 33,
     "metadata": {},
     "output_type": "execute_result"
    }
   ],
   "source": [
    "x = tf.random.uniform((1, 3))\n",
    "temp = create_look_ahead_mask(x.shape[1])\n",
    "temp"
   ]
  },
  {
   "cell_type": "code",
   "execution_count": 34,
   "metadata": {},
   "outputs": [],
   "source": [
    "def scaled_dot_product_attention(q, k, v, mask):\n",
    "    \"\"\"Calculate the attention weights.\n",
    "    q, k, v must have matching leading dimensions.\n",
    "    k, v must have matching penultimate dimension, i.e.: seq_len_k = seq_len_v.\n",
    "    The mask has different shapes depending on its type(padding or look ahead) \n",
    "    but it must be broadcastable for addition.\n",
    "    \n",
    "    Args:\n",
    "    q: query shape == (..., seq_len_q, depth)\n",
    "    k: key shape == (..., seq_len_k, depth)\n",
    "    v: value shape == (..., seq_len_v, depth_v)\n",
    "    mask: Float tensor with shape broadcastable \n",
    "    to (..., seq_len_q, seq_len_k). Defaults to None.\n",
    "    \n",
    "    Returns:\n",
    "    output, attention_weights\n",
    "    \"\"\"\n",
    "    \n",
    "    matmul_qk = tf.matmul(q, k, transpose_b=True)  # (..., seq_len_q, seq_len_k)\n",
    "    \n",
    "    # scale matmul_qk\n",
    "    dk = tf.cast(tf.shape(k)[-1], tf.float32)\n",
    "    scaled_attention_logits = matmul_qk / tf.math.sqrt(dk)\n",
    "    \n",
    "    # add the mask to the scaled tensor.\n",
    "    if mask is not None:\n",
    "        scaled_attention_logits += (mask * -1e9)  \n",
    "    \n",
    "    # softmax is normalized on the last axis (seq_len_k) so that the scores\n",
    "    # add up to 1.\n",
    "    attention_weights = tf.nn.softmax(scaled_attention_logits, axis=-1)  # (..., seq_len_q, seq_len_k)\n",
    "    \n",
    "    output = tf.matmul(attention_weights, v)  # (..., seq_len_q, depth_v)\n",
    "    \n",
    "    return output, attention_weights"
   ]
  },
  {
   "cell_type": "code",
   "execution_count": null,
   "metadata": {},
   "outputs": [],
   "source": [
    "tf.keras.layers.Layer"
   ]
  },
  {
   "cell_type": "code",
   "execution_count": 35,
   "metadata": {},
   "outputs": [],
   "source": [
    "class MultiHeadAttention(tf.keras.layers.Layer):\n",
    "    def __init__(self, d_model, num_heads):\n",
    "        super(MultiHeadAttention, self).__init__()\n",
    "        self.num_heads = num_heads\n",
    "        self.d_model = d_model\n",
    "        \n",
    "        assert d_model % self.num_heads == 0\n",
    "        \n",
    "        self.depth = d_model // self.num_heads\n",
    "        \n",
    "        self.wq = tf.keras.layers.Dense(d_model)\n",
    "        self.wk = tf.keras.layers.Dense(d_model)\n",
    "        self.wv = tf.keras.layers.Dense(d_model)\n",
    "        \n",
    "        self.dense = tf.keras.layers.Dense(d_model)\n",
    "        \n",
    "    def split_heads(self, x, batch_size):\n",
    "        \"\"\"Split the last dimension into (num_heads, depth).\n",
    "        Transpose the result such that the shape is (batch_size, num_heads, seq_len, depth)\n",
    "        \"\"\"\n",
    "        x = tf.reshape(x, (batch_size, -1, self.num_heads, self.depth))\n",
    "        return tf.transpose(x, perm=[0, 2, 1, 3])\n",
    "    \n",
    "    def call(self, v, k, q, mask):\n",
    "        batch_size = tf.shape(q)[0]\n",
    "        \n",
    "        q = self.wq(q)  # (batch_size, seq_len, d_model)\n",
    "        k = self.wk(k)  # (batch_size, seq_len, d_model)\n",
    "        v = self.wv(v)  # (batch_size, seq_len, d_model)\n",
    "        \n",
    "        q = self.split_heads(q, batch_size)  # (batch_size, num_heads, seq_len_q, depth)\n",
    "        k = self.split_heads(k, batch_size)  # (batch_size, num_heads, seq_len_k, depth)\n",
    "        v = self.split_heads(v, batch_size)  # (batch_size, num_heads, seq_len_v, depth)\n",
    "        \n",
    "        # scaled_attention.shape == (batch_size, num_heads, seq_len_q, depth)\n",
    "        # attention_weights.shape == (batch_size, num_heads, seq_len_q, seq_len_k)\n",
    "        scaled_attention, attention_weights = scaled_dot_product_attention(\n",
    "            q, k, v, mask)\n",
    "        \n",
    "        scaled_attention = tf.transpose(scaled_attention, perm=[0, 2, 1, 3])  # (batch_size, seq_len_q, num_heads, depth)\n",
    "        \n",
    "        concat_attention = tf.reshape(scaled_attention, \n",
    "                                      (batch_size, -1, self.d_model))  # (batch_size, seq_len_q, d_model)\n",
    "        \n",
    "        output = self.dense(concat_attention)  # (batch_size, seq_len_q, d_model)\n",
    "        \n",
    "        return output, attention_weights\n"
   ]
  },
  {
   "cell_type": "code",
   "execution_count": 36,
   "metadata": {},
   "outputs": [
    {
     "data": {
      "text/plain": [
       "(TensorShape([1, 60, 512]), TensorShape([1, 8, 60, 60]))"
      ]
     },
     "execution_count": 36,
     "metadata": {},
     "output_type": "execute_result"
    }
   ],
   "source": [
    "temp_mha = MultiHeadAttention(d_model=512, num_heads=8)\n",
    "y = tf.random.uniform((1, 60, 512))  # (batch_size, encoder_sequence, d_model)\n",
    "out, attn = temp_mha(y, k=y, q=y, mask=None)\n",
    "out.shape, attn.shape"
   ]
  },
  {
   "cell_type": "code",
   "execution_count": 37,
   "metadata": {},
   "outputs": [],
   "source": [
    "def point_wise_feed_forward_network(d_model, dff):\n",
    "    return tf.keras.Sequential([\n",
    "        tf.keras.layers.Dense(dff, activation='relu'),  # (batch_size, seq_len, dff)\n",
    "        tf.keras.layers.Dense(d_model)  # (batch_size, seq_len, d_model)\n",
    "    ])"
   ]
  },
  {
   "cell_type": "code",
   "execution_count": 38,
   "metadata": {},
   "outputs": [
    {
     "data": {
      "text/plain": [
       "TensorShape([64, 50, 512])"
      ]
     },
     "execution_count": 38,
     "metadata": {},
     "output_type": "execute_result"
    }
   ],
   "source": [
    "sample_ffn = point_wise_feed_forward_network(512, 2048)\n",
    "sample_ffn(tf.random.uniform((64, 50, 512))).shape"
   ]
  },
  {
   "cell_type": "code",
   "execution_count": 39,
   "metadata": {},
   "outputs": [],
   "source": [
    "class EncoderLayer(tf.keras.layers.Layer):\n",
    "    def __init__(self, d_model, num_heads, dff, rate=0.1):\n",
    "        super(EncoderLayer, self).__init__()\n",
    "        \n",
    "        self.mha = MultiHeadAttention(d_model, num_heads)\n",
    "        self.ffn = point_wise_feed_forward_network(d_model, dff)\n",
    "        \n",
    "        self.layernorm1 = tf.keras.layers.LayerNormalization(epsilon=1e-6)\n",
    "        self.layernorm2 = tf.keras.layers.LayerNormalization(epsilon=1e-6)\n",
    "        \n",
    "        self.dropout1 = tf.keras.layers.Dropout(rate)\n",
    "        self.dropout2 = tf.keras.layers.Dropout(rate)\n",
    "        \n",
    "    def call(self, x, training, mask):\n",
    "        \n",
    "        attn_output, _ = self.mha(x, x, x, mask)  # (batch_size, input_seq_len, d_model)\n",
    "        attn_output = self.dropout1(attn_output, training=training)\n",
    "        out1 = self.layernorm1(x + attn_output)  # (batch_size, input_seq_len, d_model)\n",
    "        \n",
    "        ffn_output = self.ffn(out1)  # (batch_size, input_seq_len, d_model)\n",
    "        ffn_output = self.dropout2(ffn_output, training=training)\n",
    "        out2 = self.layernorm2(out1 + ffn_output)  # (batch_size, input_seq_len, d_model)\n",
    "        \n",
    "        return out2"
   ]
  },
  {
   "cell_type": "code",
   "execution_count": 40,
   "metadata": {},
   "outputs": [
    {
     "data": {
      "text/plain": [
       "TensorShape([64, 43, 512])"
      ]
     },
     "execution_count": 40,
     "metadata": {},
     "output_type": "execute_result"
    }
   ],
   "source": [
    "sample_encoder_layer = EncoderLayer(512, 8, 2048)\n",
    "\n",
    "sample_encoder_layer_output = sample_encoder_layer(\n",
    "    tf.random.uniform((64, 43, 512)), False, None)\n",
    "\n",
    "sample_encoder_layer_output.shape  # (batch_size, input_seq_len, d_model)"
   ]
  },
  {
   "cell_type": "code",
   "execution_count": 41,
   "metadata": {},
   "outputs": [],
   "source": [
    "class DecoderLayer(tf.keras.layers.Layer):\n",
    "    def __init__(self, d_model, num_heads, dff, rate=0.1):\n",
    "        super(DecoderLayer, self).__init__()\n",
    "        \n",
    "        self.mha1 = MultiHeadAttention(d_model, num_heads)\n",
    "        self.mha2 = MultiHeadAttention(d_model, num_heads)\n",
    "        \n",
    "        self.ffn = point_wise_feed_forward_network(d_model, dff)\n",
    "        \n",
    "        self.layernorm1 = tf.keras.layers.LayerNormalization(epsilon=1e-6)\n",
    "        self.layernorm2 = tf.keras.layers.LayerNormalization(epsilon=1e-6)\n",
    "        self.layernorm3 = tf.keras.layers.LayerNormalization(epsilon=1e-6)\n",
    "        \n",
    "        self.dropout1 = tf.keras.layers.Dropout(rate)\n",
    "        self.dropout2 = tf.keras.layers.Dropout(rate)\n",
    "        self.dropout3 = tf.keras.layers.Dropout(rate)\n",
    "        \n",
    "        \n",
    "    def call(self, x, enc_output, training, \n",
    "             look_ahead_mask, padding_mask):\n",
    "        # enc_output.shape == (batch_size, input_seq_len, d_model)\n",
    "        \n",
    "        attn1, attn_weights_block1 = self.mha1(x, x, x, look_ahead_mask)  # (batch_size, target_seq_len, d_model)\n",
    "        attn1 = self.dropout1(attn1, training=training)\n",
    "        out1 = self.layernorm1(attn1 + x)\n",
    "        \n",
    "        attn2, attn_weights_block2 = self.mha2(\n",
    "            enc_output, enc_output, out1, padding_mask)  # (batch_size, target_seq_len, d_model)\n",
    "        attn2 = self.dropout2(attn2, training=training)\n",
    "        out2 = self.layernorm2(attn2 + out1)  # (batch_size, target_seq_len, d_model)\n",
    "        \n",
    "        ffn_output = self.ffn(out2)  # (batch_size, target_seq_len, d_model)\n",
    "        ffn_output = self.dropout3(ffn_output, training=training)\n",
    "        out3 = self.layernorm3(ffn_output + out2)  # (batch_size, target_seq_len, d_model)\n",
    "        \n",
    "        return out3, attn_weights_block1, attn_weights_block2"
   ]
  },
  {
   "cell_type": "code",
   "execution_count": 42,
   "metadata": {},
   "outputs": [
    {
     "data": {
      "text/plain": [
       "TensorShape([64, 50, 512])"
      ]
     },
     "execution_count": 42,
     "metadata": {},
     "output_type": "execute_result"
    }
   ],
   "source": [
    "sample_decoder_layer = DecoderLayer(512, 8, 2048)\n",
    "\n",
    "sample_decoder_layer_output, _, _ = sample_decoder_layer(\n",
    "    tf.random.uniform((64, 50, 512)), sample_encoder_layer_output, \n",
    "    False, None, None)\n",
    "\n",
    "sample_decoder_layer_output.shape  # (batch_size, target_seq_len, d_model)\n"
   ]
  },
  {
   "cell_type": "code",
   "execution_count": 43,
   "metadata": {},
   "outputs": [],
   "source": [
    "class Encoder(tf.keras.layers.Layer):\n",
    "    def __init__(self, num_layers, d_model, num_heads, dff, input_vocab_size,\n",
    "                 maximum_position_encoding, rate=0.1):\n",
    "        super(Encoder, self).__init__()\n",
    "        \n",
    "        self.d_model = d_model\n",
    "        self.num_layers = num_layers\n",
    "        \n",
    "        self.embedding = tf.keras.layers.Embedding(input_vocab_size, d_model)\n",
    "        self.pos_encoding = positional_encoding(maximum_position_encoding, \n",
    "                                                self.d_model)\n",
    "        \n",
    "        \n",
    "        self.enc_layers = [EncoderLayer(d_model, num_heads, dff, rate) \n",
    "                           for _ in range(num_layers)]\n",
    "        \n",
    "        self.dropout = tf.keras.layers.Dropout(rate)\n",
    "        \n",
    "    def call(self, x, training, mask):\n",
    "        \n",
    "        seq_len = tf.shape(x)[1]\n",
    "        \n",
    "        # adding embedding and position encoding.\n",
    "        x = self.embedding(x)  # (batch_size, input_seq_len, d_model)\n",
    "        x *= tf.math.sqrt(tf.cast(self.d_model, tf.float32))\n",
    "        x += self.pos_encoding[:, :seq_len, :]\n",
    "        \n",
    "        x = self.dropout(x, training=training)\n",
    "        \n",
    "        for i in range(self.num_layers):\n",
    "            x = self.enc_layers[i](x, training, mask)\n",
    "            \n",
    "        return x  # (batch_size, input_seq_len, d_model)"
   ]
  },
  {
   "cell_type": "code",
   "execution_count": 48,
   "metadata": {},
   "outputs": [
    {
     "name": "stdout",
     "output_type": "stream",
     "text": [
      "(64, 62, 512)\n"
     ]
    }
   ],
   "source": [
    "sample_encoder = Encoder(num_layers=2, d_model=512, num_heads=8, \n",
    "                         dff=2048, input_vocab_size=8500,\n",
    "                         maximum_position_encoding=10000)\n",
    "temp_input = tf.random.uniform((64, 62), dtype=tf.int64, minval=0, maxval=200)\n",
    "\n",
    "sample_encoder_output = sample_encoder(temp_input, training=False, mask=None)\n",
    "\n",
    "print (sample_encoder_output.shape)  # (batch_size, input_seq_len, d_model)"
   ]
  },
  {
   "cell_type": "code",
   "execution_count": 82,
   "metadata": {},
   "outputs": [],
   "source": [
    "class Decoder(tf.keras.layers.Layer):\n",
    "    def __init__(self, num_layers, d_model, num_heads, dff, target_vocab_size,\n",
    "                 maximum_position_encoding, rate=0.1):\n",
    "        super(Decoder, self).__init__()\n",
    "        \n",
    "        self.d_model = d_model\n",
    "        self.num_layers = num_layers\n",
    "        \n",
    "        self.embedding = tf.keras.layers.Embedding(target_vocab_size, d_model)\n",
    "        self.pos_encoding = positional_encoding(maximum_position_encoding, d_model)\n",
    "        \n",
    "        self.dec_layers = [DecoderLayer(d_model, num_heads, dff, rate) \n",
    "                           for _ in range(num_layers)]\n",
    "        self.dropout = tf.keras.layers.Dropout(rate)\n",
    "        \n",
    "    def call(self, x, enc_output, training, \n",
    "             look_ahead_mask, padding_mask):\n",
    "        \n",
    "        seq_len = tf.shape(x)[1]\n",
    "        attention_weights = {}\n",
    "        \n",
    "        x = self.embedding(x)  # (batch_size, target_seq_len, d_model)\n",
    "        x *= tf.math.sqrt(tf.cast(self.d_model, tf.float32))\n",
    "        x += self.pos_encoding[:, :seq_len, :]\n",
    "        \n",
    "        x = self.dropout(x, training=training)\n",
    "        \n",
    "        for i in range(self.num_layers):\n",
    "            x, block1, block2 = self.dec_layers[i](x, enc_output, training,\n",
    "                                                   look_ahead_mask, padding_mask)\n",
    "            \n",
    "            attention_weights['decoder_layer{}_block1'.format(i+1)] = block1\n",
    "            attention_weights['decoder_layer{}_block2'.format(i+1)] = block2\n",
    "            \n",
    "            # x.shape == (batch_size, target_seq_len, d_model)\n",
    "        return x, attention_weights"
   ]
  },
  {
   "cell_type": "code",
   "execution_count": 50,
   "metadata": {},
   "outputs": [
    {
     "data": {
      "text/plain": [
       "(TensorShape([64, 26, 512]), TensorShape([64, 8, 26, 62]))"
      ]
     },
     "execution_count": 50,
     "metadata": {},
     "output_type": "execute_result"
    }
   ],
   "source": [
    "sample_decoder = Decoder(num_layers=2, d_model=512, num_heads=8, \n",
    "                         dff=2048, target_vocab_size=8000,\n",
    "                         maximum_position_encoding=5000)\n",
    "temp_input = tf.random.uniform((64, 26), dtype=tf.int64, minval=0, maxval=200)\n",
    "\n",
    "output, attn = sample_decoder(temp_input, \n",
    "                              enc_output=sample_encoder_output, \n",
    "                              training=False,\n",
    "                              look_ahead_mask=None, \n",
    "                              padding_mask=None)\n",
    "\n",
    "output.shape, attn['decoder_layer2_block2'].shape"
   ]
  },
  {
   "cell_type": "code",
   "execution_count": 51,
   "metadata": {},
   "outputs": [],
   "source": [
    "class Transformer(tf.keras.Model):\n",
    "    def __init__(self, num_layers, d_model, num_heads, dff, input_vocab_size, \n",
    "                 target_vocab_size, pe_input, pe_target, rate=0.1):\n",
    "        super(Transformer, self).__init__()\n",
    "        \n",
    "        self.encoder = Encoder(num_layers, d_model, num_heads, dff, \n",
    "                               input_vocab_size, pe_input, rate)\n",
    "        \n",
    "        self.decoder = Decoder(num_layers, d_model, num_heads, dff, \n",
    "                               target_vocab_size, pe_target, rate)\n",
    "        \n",
    "        self.final_layer = tf.keras.layers.Dense(target_vocab_size)\n",
    "        \n",
    "    def call(self, inp, tar, training, enc_padding_mask, \n",
    "             look_ahead_mask, dec_padding_mask):\n",
    "        \n",
    "        enc_output = self.encoder(inp, training, enc_padding_mask)  # (batch_size, inp_seq_len, d_model)\n",
    "        \n",
    "        # dec_output.shape == (batch_size, tar_seq_len, d_model)\n",
    "        dec_output, attention_weights = self.decoder(\n",
    "            tar, enc_output, training, look_ahead_mask, dec_padding_mask)\n",
    "        \n",
    "        final_output = self.final_layer(dec_output)  # (batch_size, tar_seq_len, target_vocab_size)\n",
    "        \n",
    "        return final_output, attention_weights"
   ]
  },
  {
   "cell_type": "code",
   "execution_count": 52,
   "metadata": {},
   "outputs": [
    {
     "data": {
      "text/plain": [
       "TensorShape([64, 36, 8000])"
      ]
     },
     "execution_count": 52,
     "metadata": {},
     "output_type": "execute_result"
    }
   ],
   "source": [
    "sample_transformer = Transformer(\n",
    "    num_layers=2, d_model=512, num_heads=8, dff=2048, \n",
    "    input_vocab_size=8500, target_vocab_size=8000, \n",
    "    pe_input=10000, pe_target=6000)\n",
    "\n",
    "temp_input = tf.random.uniform((64, 38), dtype=tf.int64, minval=0, maxval=200)\n",
    "temp_target = tf.random.uniform((64, 36), dtype=tf.int64, minval=0, maxval=200)\n",
    "\n",
    "fn_out, _ = sample_transformer(temp_input, temp_target, training=False, \n",
    "                               enc_padding_mask=None, \n",
    "                               look_ahead_mask=None,\n",
    "                               dec_padding_mask=None)\n",
    "\n",
    "fn_out.shape  # (batch_size, tar_seq_len, target_vocab_size)"
   ]
  },
  {
   "cell_type": "code",
   "execution_count": 74,
   "metadata": {},
   "outputs": [
    {
     "data": {
      "text/plain": [
       "dict_keys(['decoder_layer2_block1', 'decoder_layer2_block2'])"
      ]
     },
     "execution_count": 74,
     "metadata": {},
     "output_type": "execute_result"
    }
   ],
   "source": [
    "_.keys()"
   ]
  },
  {
   "cell_type": "code",
   "execution_count": 53,
   "metadata": {},
   "outputs": [],
   "source": [
    "num_layers = 4\n",
    "d_model = 128\n",
    "dff = 512\n",
    "num_heads = 8\n",
    "\n",
    "input_vocab_size = tokenizer_pt.vocab_size + 2\n",
    "target_vocab_size = tokenizer_en.vocab_size + 2\n",
    "dropout_rate = 0.1\n"
   ]
  },
  {
   "cell_type": "code",
   "execution_count": 54,
   "metadata": {},
   "outputs": [],
   "source": [
    "class CustomSchedule(tf.keras.optimizers.schedules.LearningRateSchedule):\n",
    "    def __init__(self, d_model, warmup_steps=4000):\n",
    "        super(CustomSchedule, self).__init__()\n",
    "        \n",
    "        self.d_model = d_model\n",
    "        self.d_model = tf.cast(self.d_model, tf.float32)\n",
    "        \n",
    "        self.warmup_steps = warmup_steps\n",
    "        \n",
    "    def __call__(self, step):\n",
    "        arg1 = tf.math.rsqrt(step)\n",
    "        arg2 = step * (self.warmup_steps ** -1.5)\n",
    "        \n",
    "        return tf.math.rsqrt(self.d_model) * tf.math.minimum(arg1, arg2)"
   ]
  },
  {
   "cell_type": "code",
   "execution_count": 55,
   "metadata": {},
   "outputs": [],
   "source": [
    "learning_rate = CustomSchedule(d_model)\n",
    "\n",
    "optimizer = tf.keras.optimizers.Adam(learning_rate, beta_1=0.9, beta_2=0.98, \n",
    "                                     epsilon=1e-9)"
   ]
  },
  {
   "cell_type": "code",
   "execution_count": 56,
   "metadata": {},
   "outputs": [
    {
     "data": {
      "text/plain": [
       "Text(0.5, 0, 'Train Step')"
      ]
     },
     "execution_count": 56,
     "metadata": {},
     "output_type": "execute_result"
    },
    {
     "data": {
      "image/png": "[encoded data removed]",
      "text/plain": [
       "<Figure size 432x288 with 1 Axes>"
      ]
     },
     "metadata": {
      "needs_background": "light"
     },
     "output_type": "display_data"
    }
   ],
   "source": [
    "temp_learning_rate_schedule = CustomSchedule(d_model)\n",
    "\n",
    "plt.plot(temp_learning_rate_schedule(tf.range(40000, dtype=tf.float32)))\n",
    "plt.ylabel(\"Learning Rate\")\n",
    "plt.xlabel(\"Train Step\")"
   ]
  },
  {
   "cell_type": "code",
   "execution_count": 57,
   "metadata": {},
   "outputs": [],
   "source": [
    "loss_object = tf.keras.losses.SparseCategoricalCrossentropy(from_logits=True, reduction='none')"
   ]
  },
  {
   "cell_type": "code",
   "execution_count": 58,
   "metadata": {},
   "outputs": [],
   "source": [
    "def loss_function(real, pred):\n",
    "    mask = tf.math.logical_not(tf.math.equal(real, 0))\n",
    "    loss_ = loss_object(real, pred)\n",
    "    \n",
    "    mask = tf.cast(mask, dtype=loss_.dtype)\n",
    "    loss_ *= mask\n",
    "    \n",
    "    return tf.reduce_sum(loss_)/tf.reduce_sum(mask)\n",
    "\n",
    "\n",
    "def accuracy_function(real, pred):\n",
    "    accuracies = tf.equal(real, tf.argmax(pred, axis=2))\n",
    "    \n",
    "    mask = tf.math.logical_not(tf.math.equal(real, 0))\n",
    "    accuracies = tf.math.logical_and(mask, accuracies)\n",
    "    \n",
    "    accuracies = tf.cast(accuracies, dtype=tf.float32)\n",
    "    mask = tf.cast(mask, dtype=tf.float32)\n",
    "    return tf.reduce_sum(accuracies)/tf.reduce_sum(mask)"
   ]
  },
  {
   "cell_type": "code",
   "execution_count": 59,
   "metadata": {},
   "outputs": [],
   "source": [
    "train_loss = tf.keras.metrics.Mean(name='train_loss')\n",
    "train_accuracy = tf.keras.metrics.Mean(name='train_accuracy')"
   ]
  },
  {
   "cell_type": "code",
   "execution_count": 60,
   "metadata": {},
   "outputs": [],
   "source": [
    "transformer = Transformer(num_layers, d_model, num_heads, dff,\n",
    "                          input_vocab_size, target_vocab_size, \n",
    "                          pe_input=input_vocab_size, \n",
    "                          pe_target=target_vocab_size,\n",
    "                          rate=dropout_rate)"
   ]
  },
  {
   "cell_type": "code",
   "execution_count": 61,
   "metadata": {},
   "outputs": [],
   "source": [
    "def create_masks(inp, tar):\n",
    "    # Encoder padding mask\n",
    "    enc_padding_mask = create_padding_mask(inp)\n",
    "    \n",
    "    # Used in the 2nd attention block in the decoder.\n",
    "    # This padding mask is used to mask the encoder outputs.\n",
    "    dec_padding_mask = create_padding_mask(inp)\n",
    "    \n",
    "    # Used in the 1st attention block in the decoder.\n",
    "    # It is used to pad and mask future tokens in the input received by \n",
    "    # the decoder.\n",
    "    look_ahead_mask = create_look_ahead_mask(tf.shape(tar)[1])\n",
    "    dec_target_padding_mask = create_padding_mask(tar)\n",
    "    combined_mask = tf.maximum(dec_target_padding_mask, look_ahead_mask)\n",
    "    \n",
    "    return enc_padding_mask, combined_mask, dec_padding_mask"
   ]
  },
  {
   "cell_type": "code",
   "execution_count": 63,
   "metadata": {},
   "outputs": [],
   "source": [
    "checkpoint_path = \"./checkpoints/train\"\n",
    "\n",
    "ckpt = tf.train.Checkpoint(transformer=transformer,\n",
    "                           optimizer=optimizer)\n",
    "\n",
    "ckpt_manager = tf.train.CheckpointManager(ckpt, checkpoint_path, max_to_keep=5)\n",
    "\n",
    "# if a checkpoint exists, restore the latest checkpoint.\n",
    "if ckpt_manager.latest_checkpoint:\n",
    "    ckpt.restore(ckpt_manager.latest_checkpoint)\n",
    "    print ('Latest checkpoint restored!!')"
   ]
  },
  {
   "cell_type": "code",
   "execution_count": 64,
   "metadata": {},
   "outputs": [],
   "source": [
    "EPOCHS = 20"
   ]
  },
  {
   "cell_type": "code",
   "execution_count": 65,
   "metadata": {},
   "outputs": [],
   "source": [
    "# The @tf.function trace-compiles train_step into a TF graph for faster\n",
    "# execution. The function specializes to the precise shape of the argument\n",
    "# tensors. To avoid re-tracing due to the variable sequence lengths or variable\n",
    "# batch sizes (the last batch is smaller), use input_signature to specify\n",
    "# more generic shapes.\n",
    "\n",
    "train_step_signature = [\n",
    "    tf.TensorSpec(shape=(None, None), dtype=tf.int64),\n",
    "    tf.TensorSpec(shape=(None, None), dtype=tf.int64),\n",
    "]\n",
    "\n",
    "@tf.function(input_signature=train_step_signature)\n",
    "def train_step(inp, tar):\n",
    "    tar_inp = tar[:, :-1]\n",
    "    tar_real = tar[:, 1:]\n",
    "    \n",
    "    enc_padding_mask, combined_mask, dec_padding_mask = create_masks(inp, tar_inp)\n",
    "    \n",
    "    with tf.GradientTape() as tape:\n",
    "        predictions, _ = transformer(inp, tar_inp, \n",
    "                                     True, \n",
    "                                     enc_padding_mask, \n",
    "                                     combined_mask, \n",
    "                                     dec_padding_mask)\n",
    "        loss = loss_function(tar_real, predictions)\n",
    "    \n",
    "    gradients = tape.gradient(loss, transformer.trainable_variables)    \n",
    "    optimizer.apply_gradients(zip(gradients, transformer.trainable_variables))\n",
    "    \n",
    "    train_loss(loss)\n",
    "    train_accuracy(accuracy_function(tar_real, predictions))\n"
   ]
  },
  {
   "cell_type": "code",
   "execution_count": 66,
   "metadata": {},
   "outputs": [
    {
     "name": "stdout",
     "output_type": "stream",
     "text": [
      "Epoch 1 Batch 0 Loss 8.9804 Accuracy 0.0000\n",
      "Epoch 1 Batch 50 Loss 8.9248 Accuracy 0.0188\n",
      "Epoch 1 Batch 100 Loss 8.8332 Accuracy 0.0387\n",
      "Epoch 1 Batch 150 Loss 8.7312 Accuracy 0.0459\n",
      "Epoch 1 Batch 200 Loss 8.6051 Accuracy 0.0500\n",
      "Epoch 1 Batch 250 Loss 8.4522 Accuracy 0.0537\n",
      "Epoch 1 Batch 300 Loss 8.2767 Accuracy 0.0587\n",
      "Epoch 1 Batch 350 Loss 8.0928 Accuracy 0.0671\n",
      "Epoch 1 Batch 400 Loss 7.9141 Accuracy 0.0742\n",
      "Epoch 1 Batch 450 Loss 7.7499 Accuracy 0.0799\n",
      "Epoch 1 Batch 500 Loss 7.6061 Accuracy 0.0856\n",
      "Epoch 1 Batch 550 Loss 7.4745 Accuracy 0.0915\n",
      "Epoch 1 Batch 600 Loss 7.3513 Accuracy 0.0982\n",
      "Epoch 1 Batch 650 Loss 7.2360 Accuracy 0.1050\n",
      "Epoch 1 Batch 700 Loss 7.1241 Accuracy 0.1120\n",
      "Epoch 1 Loss 7.1200 Accuracy 0.1123\n",
      "Time taken for 1 epoch: 298.5048544406891 secs\n",
      "\n",
      "Epoch 2 Batch 0 Loss 5.6706 Accuracy 0.2097\n",
      "Epoch 2 Batch 50 Loss 5.5206 Accuracy 0.2186\n",
      "Epoch 2 Batch 100 Loss 5.4577 Accuracy 0.2235\n",
      "Epoch 2 Batch 150 Loss 5.3980 Accuracy 0.2282\n",
      "Epoch 2 Batch 200 Loss 5.3524 Accuracy 0.2322\n",
      "Epoch 2 Batch 250 Loss 5.3050 Accuracy 0.2360\n",
      "Epoch 2 Batch 300 Loss 5.2664 Accuracy 0.2395\n",
      "Epoch 2 Batch 350 Loss 5.2270 Accuracy 0.2435\n",
      "Epoch 2 Batch 400 Loss 5.1900 Accuracy 0.2471\n",
      "Epoch 2 Batch 450 Loss 5.1554 Accuracy 0.2505\n",
      "Epoch 2 Batch 500 Loss 5.1239 Accuracy 0.2533\n",
      "Epoch 2 Batch 550 Loss 5.0949 Accuracy 0.2563\n",
      "Epoch 2 Batch 600 Loss 5.0680 Accuracy 0.2590\n",
      "Epoch 2 Batch 650 Loss 5.0411 Accuracy 0.2616\n",
      "Epoch 2 Batch 700 Loss 5.0174 Accuracy 0.2638\n",
      "Epoch 2 Loss 5.0159 Accuracy 0.2640\n",
      "Time taken for 1 epoch: 261.0622127056122 secs\n",
      "\n",
      "Epoch 3 Batch 0 Loss 4.8076 Accuracy 0.2768\n",
      "Epoch 3 Batch 50 Loss 4.6071 Accuracy 0.3052\n",
      "Epoch 3 Batch 100 Loss 4.5973 Accuracy 0.3050\n",
      "Epoch 3 Batch 150 Loss 4.5894 Accuracy 0.3057\n",
      "Epoch 3 Batch 200 Loss 4.5828 Accuracy 0.3062\n",
      "Epoch 3 Batch 250 Loss 4.5679 Accuracy 0.3079\n",
      "Epoch 3 Batch 300 Loss 4.5550 Accuracy 0.3094\n",
      "Epoch 3 Batch 350 Loss 4.5458 Accuracy 0.3101\n",
      "Epoch 3 Batch 400 Loss 4.5352 Accuracy 0.3110\n",
      "Epoch 3 Batch 450 Loss 4.5235 Accuracy 0.3122\n",
      "Epoch 3 Batch 500 Loss 4.5113 Accuracy 0.3133\n",
      "Epoch 3 Batch 550 Loss 4.5019 Accuracy 0.3144\n",
      "Epoch 3 Batch 600 Loss 4.4923 Accuracy 0.3156\n",
      "Epoch 3 Batch 650 Loss 4.4786 Accuracy 0.3170\n",
      "Epoch 3 Batch 700 Loss 4.4635 Accuracy 0.3187\n",
      "Epoch 3 Loss 4.4627 Accuracy 0.3187\n",
      "Time taken for 1 epoch: 261.02516412734985 secs\n",
      "\n",
      "Epoch 4 Batch 0 Loss 4.1886 Accuracy 0.3577\n",
      "Epoch 4 Batch 50 Loss 4.1925 Accuracy 0.3497\n",
      "Epoch 4 Batch 100 Loss 4.1706 Accuracy 0.3509\n",
      "Epoch 4 Batch 150 Loss 4.1583 Accuracy 0.3516\n",
      "Epoch 4 Batch 200 Loss 4.1491 Accuracy 0.3531\n",
      "Epoch 4 Batch 250 Loss 4.1381 Accuracy 0.3540\n",
      "Epoch 4 Batch 300 Loss 4.1230 Accuracy 0.3560\n",
      "Epoch 4 Batch 350 Loss 4.1100 Accuracy 0.3579\n",
      "Epoch 4 Batch 400 Loss 4.0981 Accuracy 0.3591\n",
      "Epoch 4 Batch 450 Loss 4.0838 Accuracy 0.3607\n",
      "Epoch 4 Batch 500 Loss 4.0682 Accuracy 0.3628\n",
      "Epoch 4 Batch 550 Loss 4.0538 Accuracy 0.3645\n",
      "Epoch 4 Batch 600 Loss 4.0386 Accuracy 0.3664\n",
      "Epoch 4 Batch 650 Loss 4.0237 Accuracy 0.3685\n",
      "Epoch 4 Batch 700 Loss 4.0104 Accuracy 0.3702\n",
      "Epoch 4 Loss 4.0104 Accuracy 0.3702\n",
      "Time taken for 1 epoch: 261.01921701431274 secs\n",
      "\n",
      "Epoch 5 Batch 0 Loss 3.6177 Accuracy 0.4266\n",
      "Epoch 5 Batch 50 Loss 3.6750 Accuracy 0.4074\n",
      "Epoch 5 Batch 100 Loss 3.6607 Accuracy 0.4102\n",
      "Epoch 5 Batch 150 Loss 3.6479 Accuracy 0.4132\n",
      "Epoch 5 Batch 200 Loss 3.6442 Accuracy 0.4136\n",
      "Epoch 5 Batch 250 Loss 3.6361 Accuracy 0.4147\n",
      "Epoch 5 Batch 300 Loss 3.6252 Accuracy 0.4164\n",
      "Epoch 5 Batch 350 Loss 3.6134 Accuracy 0.4179\n",
      "Epoch 5 Batch 400 Loss 3.6013 Accuracy 0.4194\n",
      "Epoch 5 Batch 450 Loss 3.5918 Accuracy 0.4206\n",
      "Epoch 5 Batch 500 Loss 3.5821 Accuracy 0.4220\n",
      "Epoch 5 Batch 550 Loss 3.5713 Accuracy 0.4234\n",
      "Epoch 5 Batch 600 Loss 3.5622 Accuracy 0.4249\n",
      "Epoch 5 Batch 650 Loss 3.5530 Accuracy 0.4263\n",
      "Epoch 5 Batch 700 Loss 3.5425 Accuracy 0.4278\n",
      "Saving checkpoint for epoch 5 at ./checkpoints/train/ckpt-1\n",
      "Epoch 5 Loss 3.5420 Accuracy 0.4279\n",
      "Time taken for 1 epoch: 262.20320534706116 secs\n",
      "\n",
      "Epoch 6 Batch 0 Loss 3.3638 Accuracy 0.4258\n",
      "Epoch 6 Batch 50 Loss 3.1942 Accuracy 0.4671\n",
      "Epoch 6 Batch 100 Loss 3.2270 Accuracy 0.4622\n",
      "Epoch 6 Batch 150 Loss 3.2190 Accuracy 0.4640\n",
      "Epoch 6 Batch 200 Loss 3.2195 Accuracy 0.4639\n",
      "Epoch 6 Batch 250 Loss 3.2136 Accuracy 0.4646\n",
      "Epoch 6 Batch 300 Loss 3.2085 Accuracy 0.4651\n",
      "Epoch 6 Batch 350 Loss 3.2024 Accuracy 0.4660\n",
      "Epoch 6 Batch 400 Loss 3.1941 Accuracy 0.4671\n",
      "Epoch 6 Batch 450 Loss 3.1848 Accuracy 0.4682\n",
      "Epoch 6 Batch 500 Loss 3.1773 Accuracy 0.4692\n",
      "Epoch 6 Batch 550 Loss 3.1719 Accuracy 0.4701\n",
      "Epoch 6 Batch 600 Loss 3.1687 Accuracy 0.4706\n",
      "Epoch 6 Batch 650 Loss 3.1610 Accuracy 0.4713\n",
      "Epoch 6 Batch 700 Loss 3.1516 Accuracy 0.4726\n",
      "Epoch 6 Loss 3.1515 Accuracy 0.4726\n",
      "Time taken for 1 epoch: 261.0142116546631 secs\n",
      "\n",
      "Epoch 7 Batch 0 Loss 2.7367 Accuracy 0.5140\n",
      "Epoch 7 Batch 50 Loss 2.8091 Accuracy 0.5094\n",
      "Epoch 7 Batch 100 Loss 2.8111 Accuracy 0.5083\n",
      "Epoch 7 Batch 150 Loss 2.8137 Accuracy 0.5084\n",
      "Epoch 7 Batch 200 Loss 2.8116 Accuracy 0.5094\n",
      "Epoch 7 Batch 250 Loss 2.8124 Accuracy 0.5097\n",
      "Epoch 7 Batch 300 Loss 2.8097 Accuracy 0.5099\n",
      "Epoch 7 Batch 350 Loss 2.8052 Accuracy 0.5106\n",
      "Epoch 7 Batch 400 Loss 2.7997 Accuracy 0.5112\n",
      "Epoch 7 Batch 450 Loss 2.7951 Accuracy 0.5118\n",
      "Epoch 7 Batch 500 Loss 2.7848 Accuracy 0.5131\n",
      "Epoch 7 Batch 550 Loss 2.7793 Accuracy 0.5141\n",
      "Epoch 7 Batch 600 Loss 2.7748 Accuracy 0.5150\n",
      "Epoch 7 Batch 650 Loss 2.7716 Accuracy 0.5155\n",
      "Epoch 7 Batch 700 Loss 2.7653 Accuracy 0.5165\n",
      "Epoch 7 Loss 2.7654 Accuracy 0.5165\n",
      "Time taken for 1 epoch: 261.8419487476349 secs\n",
      "\n",
      "Epoch 8 Batch 0 Loss 2.3349 Accuracy 0.5580\n",
      "Epoch 8 Batch 50 Loss 2.4649 Accuracy 0.5501\n",
      "Epoch 8 Batch 100 Loss 2.4704 Accuracy 0.5506\n",
      "Epoch 8 Batch 150 Loss 2.4682 Accuracy 0.5510\n",
      "Epoch 8 Batch 200 Loss 2.4661 Accuracy 0.5518\n",
      "Epoch 8 Batch 250 Loss 2.4611 Accuracy 0.5527\n",
      "Epoch 8 Batch 300 Loss 2.4571 Accuracy 0.5526\n",
      "Epoch 8 Batch 350 Loss 2.4562 Accuracy 0.5529\n",
      "Epoch 8 Batch 400 Loss 2.4524 Accuracy 0.5534\n",
      "Epoch 8 Batch 450 Loss 2.4476 Accuracy 0.5540\n",
      "Epoch 8 Batch 500 Loss 2.4435 Accuracy 0.5547\n",
      "Epoch 8 Batch 550 Loss 2.4424 Accuracy 0.5549\n",
      "Epoch 8 Batch 600 Loss 2.4405 Accuracy 0.5554\n",
      "Epoch 8 Batch 650 Loss 2.4393 Accuracy 0.5558\n",
      "Epoch 8 Batch 700 Loss 2.4360 Accuracy 0.5565\n",
      "Epoch 8 Loss 2.4360 Accuracy 0.5565\n",
      "Time taken for 1 epoch: 262.16557908058167 secs\n",
      "\n",
      "Epoch 9 Batch 0 Loss 2.1118 Accuracy 0.5972\n",
      "Epoch 9 Batch 50 Loss 2.1689 Accuracy 0.5903\n",
      "Epoch 9 Batch 100 Loss 2.1518 Accuracy 0.5927\n",
      "Epoch 9 Batch 150 Loss 2.1563 Accuracy 0.5923\n",
      "Epoch 9 Batch 200 Loss 2.1703 Accuracy 0.5902\n",
      "Epoch 9 Batch 250 Loss 2.1747 Accuracy 0.5898\n",
      "Epoch 9 Batch 300 Loss 2.1783 Accuracy 0.5892\n",
      "Epoch 9 Batch 350 Loss 2.1825 Accuracy 0.5884\n",
      "Epoch 9 Batch 400 Loss 2.1839 Accuracy 0.5879\n",
      "Epoch 9 Batch 450 Loss 2.1834 Accuracy 0.5881\n",
      "Epoch 9 Batch 500 Loss 2.1822 Accuracy 0.5885\n",
      "Epoch 9 Batch 550 Loss 2.1846 Accuracy 0.5882\n",
      "Epoch 9 Batch 600 Loss 2.1859 Accuracy 0.5881\n",
      "Epoch 9 Batch 650 Loss 2.1868 Accuracy 0.5883\n",
      "Epoch 9 Batch 700 Loss 2.1885 Accuracy 0.5881\n",
      "Epoch 9 Loss 2.1887 Accuracy 0.5881\n",
      "Time taken for 1 epoch: 262.22947907447815 secs\n",
      "\n",
      "Epoch 10 Batch 0 Loss 2.0344 Accuracy 0.5866\n",
      "Epoch 10 Batch 50 Loss 1.9500 Accuracy 0.6172\n",
      "Epoch 10 Batch 100 Loss 1.9375 Accuracy 0.6197\n",
      "Epoch 10 Batch 150 Loss 1.9553 Accuracy 0.6178\n",
      "Epoch 10 Batch 200 Loss 1.9651 Accuracy 0.6165\n",
      "Epoch 10 Batch 250 Loss 1.9697 Accuracy 0.6158\n",
      "Epoch 10 Batch 300 Loss 1.9747 Accuracy 0.6156\n",
      "Epoch 10 Batch 350 Loss 1.9782 Accuracy 0.6150\n",
      "Epoch 10 Batch 400 Loss 1.9829 Accuracy 0.6143\n",
      "Epoch 10 Batch 450 Loss 1.9836 Accuracy 0.6141\n",
      "Epoch 10 Batch 500 Loss 1.9902 Accuracy 0.6132\n",
      "Epoch 10 Batch 550 Loss 1.9917 Accuracy 0.6127\n",
      "Epoch 10 Batch 600 Loss 1.9942 Accuracy 0.6125\n",
      "Epoch 10 Batch 650 Loss 1.9982 Accuracy 0.6119\n",
      "Epoch 10 Batch 700 Loss 2.0025 Accuracy 0.6113\n",
      "Saving checkpoint for epoch 10 at ./checkpoints/train/ckpt-2\n",
      "Epoch 10 Loss 2.0026 Accuracy 0.6112\n",
      "Time taken for 1 epoch: 262.5350196361542 secs\n",
      "\n",
      "Epoch 11 Batch 0 Loss 1.6613 Accuracy 0.6735\n",
      "Epoch 11 Batch 50 Loss 1.7702 Accuracy 0.6419\n",
      "Epoch 11 Batch 100 Loss 1.7912 Accuracy 0.6390\n",
      "Epoch 11 Batch 150 Loss 1.8088 Accuracy 0.6359\n",
      "Epoch 11 Batch 200 Loss 1.8195 Accuracy 0.6340\n",
      "Epoch 11 Batch 250 Loss 1.8246 Accuracy 0.6340\n",
      "Epoch 11 Batch 300 Loss 1.8327 Accuracy 0.6326\n",
      "Epoch 11 Batch 350 Loss 1.8364 Accuracy 0.6323\n",
      "Epoch 11 Batch 400 Loss 1.8380 Accuracy 0.6319\n",
      "Epoch 11 Batch 450 Loss 1.8386 Accuracy 0.6321\n",
      "Epoch 11 Batch 500 Loss 1.8389 Accuracy 0.6319\n",
      "Epoch 11 Batch 550 Loss 1.8447 Accuracy 0.6313\n",
      "Epoch 11 Batch 600 Loss 1.8488 Accuracy 0.6311\n",
      "Epoch 11 Batch 650 Loss 1.8522 Accuracy 0.6308\n",
      "Epoch 11 Batch 700 Loss 1.8554 Accuracy 0.6304\n",
      "Epoch 11 Loss 1.8556 Accuracy 0.6303\n",
      "Time taken for 1 epoch: 261.11256074905396 secs\n",
      "\n",
      "Epoch 12 Batch 0 Loss 1.7007 Accuracy 0.6571\n",
      "Epoch 12 Batch 50 Loss 1.6498 Accuracy 0.6594\n",
      "Epoch 12 Batch 100 Loss 1.6679 Accuracy 0.6562\n",
      "Epoch 12 Batch 150 Loss 1.6767 Accuracy 0.6556\n",
      "Epoch 12 Batch 200 Loss 1.6859 Accuracy 0.6545\n",
      "Epoch 12 Batch 250 Loss 1.6898 Accuracy 0.6538\n",
      "Epoch 12 Batch 300 Loss 1.6978 Accuracy 0.6526\n",
      "Epoch 12 Batch 350 Loss 1.7053 Accuracy 0.6516\n",
      "Epoch 12 Batch 400 Loss 1.7078 Accuracy 0.6510\n",
      "Epoch 12 Batch 450 Loss 1.7129 Accuracy 0.6504\n",
      "Epoch 12 Batch 500 Loss 1.7163 Accuracy 0.6498\n",
      "Epoch 12 Batch 550 Loss 1.7217 Accuracy 0.6490\n",
      "Epoch 12 Batch 600 Loss 1.7260 Accuracy 0.6481\n",
      "Epoch 12 Batch 650 Loss 1.7304 Accuracy 0.6475\n",
      "Epoch 12 Batch 700 Loss 1.7344 Accuracy 0.6470\n",
      "Epoch 12 Loss 1.7346 Accuracy 0.6469\n",
      "Time taken for 1 epoch: 261.574481010437 secs\n",
      "\n",
      "Epoch 13 Batch 0 Loss 1.6526 Accuracy 0.6686\n",
      "Epoch 13 Batch 50 Loss 1.5569 Accuracy 0.6725\n",
      "Epoch 13 Batch 100 Loss 1.5614 Accuracy 0.6718\n",
      "Epoch 13 Batch 150 Loss 1.5759 Accuracy 0.6694\n",
      "Epoch 13 Batch 200 Loss 1.5856 Accuracy 0.6684\n",
      "Epoch 13 Batch 250 Loss 1.5933 Accuracy 0.6670\n",
      "Epoch 13 Batch 300 Loss 1.6009 Accuracy 0.6657\n",
      "Epoch 13 Batch 350 Loss 1.6056 Accuracy 0.6648\n",
      "Epoch 13 Batch 400 Loss 1.6110 Accuracy 0.6637\n",
      "Epoch 13 Batch 450 Loss 1.6128 Accuracy 0.6635\n",
      "Epoch 13 Batch 500 Loss 1.6153 Accuracy 0.6632\n",
      "Epoch 13 Batch 550 Loss 1.6187 Accuracy 0.6625\n",
      "Epoch 13 Batch 600 Loss 1.6228 Accuracy 0.6621\n",
      "Epoch 13 Batch 650 Loss 1.6281 Accuracy 0.6612\n",
      "Epoch 13 Batch 700 Loss 1.6337 Accuracy 0.6605\n",
      "Epoch 13 Loss 1.6337 Accuracy 0.6605\n",
      "Time taken for 1 epoch: 262.76489782333374 secs\n",
      "\n",
      "Epoch 14 Batch 0 Loss 1.3214 Accuracy 0.7164\n",
      "Epoch 14 Batch 50 Loss 1.4668 Accuracy 0.6852\n",
      "Epoch 14 Batch 100 Loss 1.4700 Accuracy 0.6849\n",
      "Epoch 14 Batch 150 Loss 1.4846 Accuracy 0.6819\n",
      "Epoch 14 Batch 200 Loss 1.4951 Accuracy 0.6806\n",
      "Epoch 14 Batch 250 Loss 1.5018 Accuracy 0.6800\n",
      "Epoch 14 Batch 300 Loss 1.5062 Accuracy 0.6791\n",
      "Epoch 14 Batch 350 Loss 1.5098 Accuracy 0.6783\n",
      "Epoch 14 Batch 400 Loss 1.5183 Accuracy 0.6772\n",
      "Epoch 14 Batch 450 Loss 1.5203 Accuracy 0.6768\n",
      "Epoch 14 Batch 500 Loss 1.5260 Accuracy 0.6760\n",
      "Epoch 14 Batch 550 Loss 1.5320 Accuracy 0.6750\n",
      "Epoch 14 Batch 600 Loss 1.5365 Accuracy 0.6744\n",
      "Epoch 14 Batch 650 Loss 1.5421 Accuracy 0.6735\n",
      "Epoch 14 Batch 700 Loss 1.5455 Accuracy 0.6732\n",
      "Epoch 14 Loss 1.5458 Accuracy 0.6732\n",
      "Time taken for 1 epoch: 261.92930150032043 secs\n",
      "\n",
      "Epoch 15 Batch 0 Loss 1.3341 Accuracy 0.7049\n",
      "Epoch 15 Batch 50 Loss 1.3809 Accuracy 0.7002\n",
      "Epoch 15 Batch 100 Loss 1.3967 Accuracy 0.6975\n",
      "Epoch 15 Batch 150 Loss 1.4037 Accuracy 0.6952\n",
      "Epoch 15 Batch 200 Loss 1.4121 Accuracy 0.6937\n",
      "Epoch 15 Batch 250 Loss 1.4239 Accuracy 0.6916\n",
      "Epoch 15 Batch 300 Loss 1.4282 Accuracy 0.6906\n",
      "Epoch 15 Batch 350 Loss 1.4315 Accuracy 0.6900\n",
      "Epoch 15 Batch 400 Loss 1.4356 Accuracy 0.6892\n",
      "Epoch 15 Batch 450 Loss 1.4420 Accuracy 0.6881\n",
      "Epoch 15 Batch 500 Loss 1.4484 Accuracy 0.6872\n",
      "Epoch 15 Batch 550 Loss 1.4528 Accuracy 0.6866\n",
      "Epoch 15 Batch 600 Loss 1.4582 Accuracy 0.6859\n",
      "Epoch 15 Batch 650 Loss 1.4642 Accuracy 0.6850\n",
      "Epoch 15 Batch 700 Loss 1.4698 Accuracy 0.6843\n",
      "Saving checkpoint for epoch 15 at ./checkpoints/train/ckpt-3\n",
      "Epoch 15 Loss 1.4700 Accuracy 0.6843\n",
      "Time taken for 1 epoch: 263.5344178676605 secs\n",
      "\n",
      "Epoch 16 Batch 0 Loss 1.3636 Accuracy 0.6945\n",
      "Epoch 16 Batch 50 Loss 1.3389 Accuracy 0.7057\n",
      "Epoch 16 Batch 100 Loss 1.3424 Accuracy 0.7043\n",
      "Epoch 16 Batch 150 Loss 1.3437 Accuracy 0.7041\n",
      "Epoch 16 Batch 200 Loss 1.3519 Accuracy 0.7023\n",
      "Epoch 16 Batch 250 Loss 1.3549 Accuracy 0.7016\n",
      "Epoch 16 Batch 300 Loss 1.3596 Accuracy 0.7010\n",
      "Epoch 16 Batch 350 Loss 1.3664 Accuracy 0.6999\n",
      "Epoch 16 Batch 400 Loss 1.3713 Accuracy 0.6993\n",
      "Epoch 16 Batch 450 Loss 1.3764 Accuracy 0.6984\n",
      "Epoch 16 Batch 500 Loss 1.3804 Accuracy 0.6975\n",
      "Epoch 16 Batch 550 Loss 1.3834 Accuracy 0.6971\n",
      "Epoch 16 Batch 600 Loss 1.3881 Accuracy 0.6963\n",
      "Epoch 16 Batch 650 Loss 1.3958 Accuracy 0.6950\n",
      "Epoch 16 Batch 700 Loss 1.4025 Accuracy 0.6939\n",
      "Epoch 16 Loss 1.4023 Accuracy 0.6939\n",
      "Time taken for 1 epoch: 262.5121793746948 secs\n",
      "\n",
      "Epoch 17 Batch 0 Loss 1.2689 Accuracy 0.6975\n",
      "Epoch 17 Batch 50 Loss 1.2600 Accuracy 0.7169\n",
      "Epoch 17 Batch 100 Loss 1.2568 Accuracy 0.7187\n",
      "Epoch 17 Batch 150 Loss 1.2749 Accuracy 0.7156\n",
      "Epoch 17 Batch 200 Loss 1.2837 Accuracy 0.7134\n",
      "Epoch 17 Batch 250 Loss 1.2924 Accuracy 0.7117\n",
      "Epoch 17 Batch 300 Loss 1.2983 Accuracy 0.7107\n",
      "Epoch 17 Batch 350 Loss 1.3036 Accuracy 0.7096\n",
      "Epoch 17 Batch 400 Loss 1.3116 Accuracy 0.7080\n",
      "Epoch 17 Batch 450 Loss 1.3166 Accuracy 0.7072\n",
      "Epoch 17 Batch 500 Loss 1.3221 Accuracy 0.7063\n",
      "Epoch 17 Batch 550 Loss 1.3264 Accuracy 0.7056\n",
      "Epoch 17 Batch 600 Loss 1.3317 Accuracy 0.7046\n",
      "Epoch 17 Batch 650 Loss 1.3373 Accuracy 0.7037\n",
      "Epoch 17 Batch 700 Loss 1.3410 Accuracy 0.7032\n",
      "Epoch 17 Loss 1.3413 Accuracy 0.7032\n",
      "Time taken for 1 epoch: 262.8153953552246 secs\n",
      "\n",
      "Epoch 18 Batch 0 Loss 1.1491 Accuracy 0.7516\n",
      "Epoch 18 Batch 50 Loss 1.2010 Accuracy 0.7253\n",
      "Epoch 18 Batch 100 Loss 1.2085 Accuracy 0.7252\n",
      "Epoch 18 Batch 150 Loss 1.2189 Accuracy 0.7229\n",
      "Epoch 18 Batch 200 Loss 1.2281 Accuracy 0.7215\n",
      "Epoch 18 Batch 250 Loss 1.2336 Accuracy 0.7206\n",
      "Epoch 18 Batch 300 Loss 1.2401 Accuracy 0.7196\n",
      "Epoch 18 Batch 350 Loss 1.2459 Accuracy 0.7189\n",
      "Epoch 18 Batch 400 Loss 1.2545 Accuracy 0.7171\n",
      "Epoch 18 Batch 450 Loss 1.2590 Accuracy 0.7162\n",
      "Epoch 18 Batch 500 Loss 1.2650 Accuracy 0.7152\n",
      "Epoch 18 Batch 550 Loss 1.2720 Accuracy 0.7141\n",
      "Epoch 18 Batch 600 Loss 1.2769 Accuracy 0.7135\n",
      "Epoch 18 Batch 650 Loss 1.2829 Accuracy 0.7126\n",
      "Epoch 18 Batch 700 Loss 1.2879 Accuracy 0.7117\n",
      "Epoch 18 Loss 1.2879 Accuracy 0.7118\n",
      "Time taken for 1 epoch: 262.9798822402954 secs\n",
      "\n",
      "Epoch 19 Batch 0 Loss 1.2077 Accuracy 0.7142\n",
      "Epoch 19 Batch 50 Loss 1.1538 Accuracy 0.7339\n",
      "Epoch 19 Batch 100 Loss 1.1616 Accuracy 0.7322\n",
      "Epoch 19 Batch 150 Loss 1.1728 Accuracy 0.7298\n",
      "Epoch 19 Batch 200 Loss 1.1801 Accuracy 0.7287\n",
      "Epoch 19 Batch 250 Loss 1.1851 Accuracy 0.7281\n",
      "Epoch 19 Batch 300 Loss 1.1919 Accuracy 0.7272\n",
      "Epoch 19 Batch 350 Loss 1.1973 Accuracy 0.7261\n",
      "Epoch 19 Batch 400 Loss 1.2017 Accuracy 0.7254\n",
      "Epoch 19 Batch 450 Loss 1.2067 Accuracy 0.7245\n",
      "Epoch 19 Batch 500 Loss 1.2124 Accuracy 0.7233\n",
      "Epoch 19 Batch 550 Loss 1.2184 Accuracy 0.7223\n",
      "Epoch 19 Batch 600 Loss 1.2251 Accuracy 0.7210\n",
      "Epoch 19 Batch 650 Loss 1.2314 Accuracy 0.7202\n",
      "Epoch 19 Batch 700 Loss 1.2358 Accuracy 0.7196\n",
      "Epoch 19 Loss 1.2360 Accuracy 0.7195\n",
      "Time taken for 1 epoch: 262.54565501213074 secs\n",
      "\n",
      "Epoch 20 Batch 0 Loss 1.0861 Accuracy 0.7569\n",
      "Epoch 20 Batch 50 Loss 1.1109 Accuracy 0.7388\n",
      "Epoch 20 Batch 100 Loss 1.1248 Accuracy 0.7372\n",
      "Epoch 20 Batch 150 Loss 1.1318 Accuracy 0.7367\n",
      "Epoch 20 Batch 200 Loss 1.1353 Accuracy 0.7359\n",
      "Epoch 20 Batch 250 Loss 1.1413 Accuracy 0.7351\n",
      "Epoch 20 Batch 300 Loss 1.1470 Accuracy 0.7340\n",
      "Epoch 20 Batch 350 Loss 1.1533 Accuracy 0.7329\n",
      "Epoch 20 Batch 400 Loss 1.1575 Accuracy 0.7321\n",
      "Epoch 20 Batch 450 Loss 1.1628 Accuracy 0.7311\n",
      "Epoch 20 Batch 500 Loss 1.1701 Accuracy 0.7299\n",
      "Epoch 20 Batch 550 Loss 1.1757 Accuracy 0.7288\n",
      "Epoch 20 Batch 600 Loss 1.1818 Accuracy 0.7279\n",
      "Epoch 20 Batch 650 Loss 1.1880 Accuracy 0.7269\n",
      "Epoch 20 Batch 700 Loss 1.1933 Accuracy 0.7260\n",
      "Saving checkpoint for epoch 20 at ./checkpoints/train/ckpt-4\n",
      "Epoch 20 Loss 1.1930 Accuracy 0.7261\n",
      "Time taken for 1 epoch: 263.2811141014099 secs\n",
      "\n"
     ]
    }
   ],
   "source": [
    "for epoch in range(EPOCHS):\n",
    "    start = time.time()\n",
    "    \n",
    "    train_loss.reset_states()\n",
    "    train_accuracy.reset_states()\n",
    "    \n",
    "    # inp -> portuguese, tar -> english\n",
    "    for (batch, (inp, tar)) in enumerate(train_dataset):\n",
    "        train_step(inp, tar)\n",
    "        \n",
    "        if batch % 50 == 0:\n",
    "            print ('Epoch {} Batch {} Loss {:.4f} Accuracy {:.4f}'.format(\n",
    "                epoch + 1, batch, train_loss.result(), train_accuracy.result()))\n",
    "    \n",
    "    if (epoch + 1) % 5 == 0:\n",
    "        ckpt_save_path = ckpt_manager.save()\n",
    "        print ('Saving checkpoint for epoch {} at {}'.format(epoch+1,\n",
    "                                                             ckpt_save_path))\n",
    "    \n",
    "    print ('Epoch {} Loss {:.4f} Accuracy {:.4f}'.format(epoch + 1, \n",
    "                                                         train_loss.result(), \n",
    "                                                         train_accuracy.result()))\n",
    "    \n",
    "    print ('Time taken for 1 epoch: {} secs\\n'.format(time.time() - start))"
   ]
  },
  {
   "cell_type": "code",
   "execution_count": 75,
   "metadata": {},
   "outputs": [],
   "source": [
    "def evaluate(inp_sentence):\n",
    "    start_token = [tokenizer_pt.vocab_size]\n",
    "    end_token = [tokenizer_pt.vocab_size + 1]\n",
    "    \n",
    "    # inp sentence is portuguese, hence adding the start and end token\n",
    "    inp_sentence = start_token + tokenizer_pt.encode(inp_sentence) + end_token\n",
    "    encoder_input = tf.expand_dims(inp_sentence, 0)\n",
    "    \n",
    "    # as the target is english, the first word to the transformer should be the\n",
    "    # english start token.\n",
    "    decoder_input = [tokenizer_en.vocab_size]\n",
    "    output = tf.expand_dims(decoder_input, 0)\n",
    "    \n",
    "    for i in range(MAX_LENGTH):\n",
    "        enc_padding_mask, combined_mask, dec_padding_mask = create_masks(\n",
    "            encoder_input, output)\n",
    "        \n",
    "        # predictions.shape == (batch_size, seq_len, vocab_size)\n",
    "        predictions, attention_weights = transformer(encoder_input, \n",
    "                                                     output,\n",
    "                                                     False,\n",
    "                                                     enc_padding_mask,\n",
    "                                                     combined_mask,\n",
    "                                                     dec_padding_mask)\n",
    "        \n",
    "        # select the last word from the seq_len dimension\n",
    "        predictions = predictions[: ,-1:, :]  # (batch_size, 1, vocab_size)\n",
    "        \n",
    "        predicted_id = tf.cast(tf.argmax(predictions, axis=-1), tf.int32)\n",
    "        \n",
    "        # return the result if the predicted_id is equal to the end token\n",
    "        if predicted_id == tokenizer_en.vocab_size+1:\n",
    "            return tf.squeeze(output, axis=0), attention_weights\n",
    "        \n",
    "        # concatentate the predicted_id to the output which is given to the decoder\n",
    "        # as its input.\n",
    "        output = tf.concat([output, predicted_id], axis=-1)\n",
    "        \n",
    "        return tf.squeeze(output, axis=0), attention_weights"
   ]
  },
  {
   "cell_type": "code",
   "execution_count": 76,
   "metadata": {},
   "outputs": [],
   "source": [
    "def plot_attention_weights(attention, sentence, result, layer):\n",
    "    fig = plt.figure(figsize=(16, 8))\n",
    "    \n",
    "    sentence = tokenizer_pt.encode(sentence)\n",
    "    \n",
    "    attention = tf.squeeze(attention[layer], axis=0)\n",
    "    \n",
    "    for head in range(attention.shape[0]):\n",
    "        ax = fig.add_subplot(2, 4, head+1)\n",
    "        \n",
    "        # plot the attention weights\n",
    "        ax.matshow(attention[head][:-1, :], cmap='viridis')\n",
    "        \n",
    "        fontdict = {'fontsize': 10}\n",
    "        \n",
    "        ax.set_xticks(range(len(sentence)+2))\n",
    "        ax.set_yticks(range(len(result)))\n",
    "        \n",
    "        ax.set_ylim(len(result)-1.5, -0.5)\n",
    "        \n",
    "        ax.set_xticklabels(\n",
    "            ['<start>']+[tokenizer_pt.decode([i]) for i in sentence]+['<end>'], \n",
    "            fontdict=fontdict, rotation=90)\n",
    "        \n",
    "        ax.set_yticklabels([tokenizer_en.decode([i]) for i in result \n",
    "                            if i < tokenizer_en.vocab_size], \n",
    "                           fontdict=fontdict)\n",
    "        \n",
    "        ax.set_xlabel('Head {}'.format(head+1))\n",
    "        \n",
    "    plt.tight_layout()\n",
    "    plt.show()"
   ]
  },
  {
   "cell_type": "code",
   "execution_count": 80,
   "metadata": {},
   "outputs": [],
   "source": [
    "def translate(sentence, plot=''):\n",
    "    result, attention_weights = evaluate(sentence)\n",
    "    \n",
    "    predicted_sentence = tokenizer_en.decode([i for i in result if i < tokenizer_en.vocab_size])  \n",
    "    \n",
    "    print('Input: {}'.format(sentence))\n",
    "    print('Predicted translation: {}'.format(predicted_sentence))\n",
    "    \n",
    "    if plot:\n",
    "        plot_attention_weights(attention_weights, sentence, result, plot)"
   ]
  },
  {
   "cell_type": "code",
   "execution_count": 83,
   "metadata": {},
   "outputs": [
    {
     "name": "stdout",
     "output_type": "stream",
     "text": [
      "Input: este é um problema que temos que resolver.\n",
      "Predicted translation: this \n",
      "Real translation: this is a problem we have to solve .\n"
     ]
    }
   ],
   "source": [
    "translate(\"este é um problema que temos que resolver.\")\n",
    "print (\"Real translation: this is a problem we have to solve .\")"
   ]
  },
  {
   "cell_type": "code",
   "execution_count": 79,
   "metadata": {},
   "outputs": [
    {
     "name": "stdout",
     "output_type": "stream",
     "text": [
      "Input: os meus vizinhos ouviram sobre esta ideia.\n",
      "Predicted translation: my \n",
      "Real translation: and my neighboring homes heard about this idea .\n"
     ]
    }
   ],
   "source": [
    "translate(\"os meus vizinhos ouviram sobre esta ideia.\")\n",
    "print (\"Real translation: and my neighboring homes heard about this idea .\")"
   ]
  },
  {
   "cell_type": "code",
   "execution_count": null,
   "metadata": {},
   "outputs": [],
   "source": []
  },
  {
   "cell_type": "code",
   "execution_count": null,
   "metadata": {},
   "outputs": [],
   "source": []
  },
  {
   "cell_type": "code",
   "execution_count": null,
   "metadata": {},
   "outputs": [],
   "source": []
  }
 ],
 "metadata": {
  "kernelspec": {
   "display_name": "Python 3",
   "language": "python",
   "name": "python3"
  },
  "language_info": {
   "codemirror_mode": {
    "name": "ipython",
    "version": 3
   },
   "file_extension": ".py",
   "mimetype": "text/x-python",
   "name": "python",
   "nbconvert_exporter": "python",
   "pygments_lexer": "ipython3",
   "version": "3.6.9"
  }
 },
 "nbformat": 4,
 "nbformat_minor": 4
}
